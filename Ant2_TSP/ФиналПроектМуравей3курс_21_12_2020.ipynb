{
  "nbformat": 4,
  "nbformat_minor": 0,
  "metadata": {
    "colab": {
      "name": "ФиналПроектМуравей3курс_21_12_2022.ipynb",
      "provenance": [],
      "collapsed_sections": []
    },
    "kernelspec": {
      "display_name": "Python 3",
      "name": "python3"
    }
  },
  "cells": [
    {
      "cell_type": "code",
      "metadata": {
        "id": "d_-xWL75PGDF"
      },
      "source": [
        "import random\n",
        "import numpy as np\n",
        "from PIL import Image, ImageDraw,ImageFont\n",
        "import os\n",
        "import math\n",
        "from shutil import rmtree\n",
        "import time\n",
        "import openpyxl"
      ],
      "execution_count": null,
      "outputs": []
    },
    {
      "cell_type": "code",
      "metadata": {
        "id": "wfMsu_csmTqQ"
      },
      "source": [
        "def do_point_map(): #Создания случайных точек на плоскости\n",
        "  for now in range(nCity):\n",
        "    point_x.append(random.randint(1, window_x-2))\n",
        "    point_y.append(random.randint(1, window_y-2))\n",
        "    for other in range(now):\n",
        "      dist=((point_x[other]-point_x[now])**2 + (point_y[other]-point_y[now])**2)**0.5\n",
        "      lenTrail[now][other]=dist\n",
        "      lenTrail[other][now]=dist"
      ],
      "execution_count": null,
      "outputs": []
    },
    {
      "cell_type": "code",
      "metadata": {
        "id": "kg2Qx7Bfwzcv"
      },
      "source": [
        "def FirstDraw(): # Рисование ранее построенного графа\n",
        "  image = Image.new(\"RGB\", (window_x*ScrCoef,window_y*ScrCoef), (255,255,255))\n",
        "  draw = ImageDraw.Draw(image)\n",
        "  for now in range(nCity):\n",
        "    for other in range(now):\n",
        "      draw.line([(ScrCoef*point_x[other],ScrCoef*point_y[other]),(ScrCoef*point_x[now],ScrCoef*point_y[now])], fill =\"black\", width = 0) \n",
        "  for now in range(nCity):\n",
        "    if(now==start or now==end):\n",
        "      draw.ellipse([(ScrCoef*point_x[now]-5,ScrCoef*point_y[now]-5),(ScrCoef*point_x[now]+5,ScrCoef*point_y[now]+5)], fill = 'blue', outline ='blue')\n",
        "      draw.text((ScrCoef*point_x[now]+5,ScrCoef*point_y[now]+5), str(now),fill='blue')\n",
        "    else:\n",
        "      draw.ellipse([(ScrCoef*point_x[now]-2,ScrCoef*point_y[now]-2),(ScrCoef*point_x[now]+2,ScrCoef*point_y[now]+2)], fill = 'red', outline ='red')\n",
        "      draw.text((ScrCoef*point_x[now]+2,ScrCoef*point_y[now]+2), str(now),fill='red')\n",
        "  del draw\n",
        "  image.save(\"Map.png\", \"PNG\")"
      ],
      "execution_count": null,
      "outputs": []
    },
    {
      "cell_type": "code",
      "metadata": {
        "id": "JbEwC0bzDZQU"
      },
      "source": [
        "def ProgressDraw(time,bestLen,Trail,FoldName): #Рисование карты - промежуточно найденного лучшего пути\n",
        "  image = Image.new(\"RGB\", (ScrCoef*window_x,ScrCoef*window_y), (255,255,255))\n",
        "  draw = ImageDraw.Draw(image)\n",
        "  if(AllLines==1):\n",
        "    for now in range(nCity):\n",
        "      for other in range(now):\n",
        "        draw.line([(ScrCoef*point_x[now],ScrCoef*point_y[now]),(ScrCoef*point_x[other],ScrCoef*point_y[other])], fill =\"black\", width = 2)\n",
        "    \n",
        "    for now in range(nCity):\n",
        "      for other in range(now):\n",
        "        draw.text((ScrCoef*(point_x[other]+point_x[now])/2-2,ScrCoef*(point_y[other]+point_y[now])/2-2), str('%.3f' % pherTrail[now][other]),fill='blue')\n",
        "\n",
        "  \n",
        "  for i in range(len(Trail)-1):\n",
        "     draw.line([(ScrCoef*point_x[Trail[i]],ScrCoef*point_y[Trail[i]]),(ScrCoef*point_x[Trail[i+1]],ScrCoef*point_y[Trail[i+1]])], fill =\"red\", width = 5)\n",
        "  for now in range(nCity):\n",
        "    draw.ellipse([(ScrCoef*point_x[now]-2,ScrCoef*point_y[now]-2),(ScrCoef*point_x[now]+2,ScrCoef*point_y[now]+2)], fill = 'black', outline ='black')\n",
        "  draw.ellipse([(ScrCoef*point_x[start]-4,ScrCoef*point_y[start]-4),(ScrCoef*point_x[start]+4,ScrCoef*point_y[start]+4)], fill = 'blue', outline ='blue')\n",
        "  draw.ellipse([(ScrCoef*point_x[end]-4,ScrCoef*point_y[end]-4),(ScrCoef*point_x[end]+4,ScrCoef*point_y[end]+4)], fill = 'red', outline ='red')\n",
        "  for now in range(nCity):\n",
        "    draw.text((ScrCoef*point_x[now]+2,ScrCoef*point_y[now]+2), str(now),fill='black')\n",
        "  \n",
        "  del draw\n",
        "  name=FoldName+\"/\"+\"time\"+str(time)+\"best\"+str(bestLen)+\".png\"\n",
        "  image.save(name, \"PNG\")"
      ],
      "execution_count": null,
      "outputs": []
    },
    {
      "cell_type": "code",
      "metadata": {
        "id": "n9On3DvLPYWX"
      },
      "source": [
        "def probability(i,j): #Расчёт весов определённого отрезка пути для расчёта вероятности прохода муравья по нему.\n",
        "  p=(pherTrail[i][j]**Alpha)*((1/lenTrail[i][j])**Beta)\n",
        "  return p"
      ],
      "execution_count": null,
      "outputs": []
    },
    {
      "cell_type": "code",
      "metadata": {
        "id": "3_WhpLJhVDiF"
      },
      "source": [
        "def UpdPher(): # Обновление феромонов\n",
        "  for i in range(nCity):\n",
        "    for j in range (i):\n",
        "      if(lenTrail[i][j]!=0):\n",
        "        pherTrail[i][j]=pherTrail[i][j]*(1-Rho)+deltaPher[i][j]\n",
        "        if(pherTrail[i][j]<pherMin):\n",
        "          pherTrail[i][j]=pherMin\n",
        "        if(pherTrail[i][j]>pherMax):\n",
        "          pherTrail[i][j]=pherMax\n",
        "        pherTrail[j][i]=pherTrail[i][j]\n",
        "        deltaPher[i][j]=0\n",
        "        deltaPher[j][i]=0"
      ],
      "execution_count": null,
      "outputs": []
    },
    {
      "cell_type": "code",
      "metadata": {
        "id": "d1Vtfu6orqOQ"
      },
      "source": [
        "def Move(now,tabu,to): #Функция выбора следующей точки для перехода\n",
        "  WhereList=[]\n",
        "  ProbList=[]\n",
        "  if(len(tabu)==nCity-1):\n",
        "    return to\n",
        "  for cit in range(nCity):\n",
        "    flag=0\n",
        "    for i in range(len(tabu)):\n",
        "      if(tabu[i]==cit):\n",
        "        flag=1\n",
        "        break\n",
        "    if(len(tabu)<nCity-1 and cit!=to and flag==0):\n",
        "      WhereList.append(cit)\n",
        "      ProbList.append(probability(now,cit))\n",
        "  return random.choices(WhereList, weights=ProbList)[0]"
      ],
      "execution_count": null,
      "outputs": []
    },
    {
      "cell_type": "code",
      "metadata": {
        "id": "bfs7XDGvJifz"
      },
      "source": [
        "def March(Fr,To): #Функция нахождения маршрута муравья из одной точки в другую\n",
        "  now=Fr\n",
        "  tabu=[]\n",
        "  tabu.append(now)\n",
        "  while 1:\n",
        "    next=Move(now,tabu,To)\n",
        "    now=next\n",
        "    tabu.append(now)\n",
        "    if (now==To):\n",
        "      return tabu"
      ],
      "execution_count": null,
      "outputs": []
    },
    {
      "cell_type": "code",
      "metadata": {
        "id": "5dsjtm8pRyi_"
      },
      "source": [
        "def Length(Trail): #Расчёт длины пути на графе\n",
        "  l=0\n",
        "  for i in range(len(Trail)-1):\n",
        "    l+=lenTrail[Trail[i]][Trail[i+1]]\n",
        "  return l"
      ],
      "execution_count": null,
      "outputs": []
    },
    {
      "cell_type": "code",
      "metadata": {
        "id": "xsyW2PmwsoOi"
      },
      "source": [
        "def PutPher(Trail,l): #Распределение феромонов после движения муравьёв\n",
        "  for sch in range(len(Trail)-1):\n",
        "    deltaPher[Trail[sch]][Trail[sch+1]]+=Q/l\n",
        "    deltaPher[Trail[sch+1]][Trail[sch]]=deltaPher[Trail[sch]][Trail[sch+1]]"
      ],
      "execution_count": null,
      "outputs": []
    },
    {
      "cell_type": "code",
      "metadata": {
        "id": "vsizueiH5fHM"
      },
      "source": [
        "def Gross(tabuNow,now): # Функция полного перебора\n",
        "  if (len(tabuNow)==nCity-1):\n",
        "    tabuCopy=tabuNow.copy()\n",
        "    tabuCopy.append(end)\n",
        "    l=Length(tabuCopy)\n",
        "    if(len(GrossLen)==0):\n",
        "      GrossLen.append(round(l,1))\n",
        "      NowTime=time.time()\n",
        "      GrossTime.append(round(NowTime-StartTime,4))\n",
        "      return\n",
        "    if(l<GrossLen[len(GrossLen)-1]):\n",
        "      GrossLen.append(round(l,1))\n",
        "      NowTime=time.time()\n",
        "      GrossTime.append(round(NowTime-StartTime,4))\n",
        "      return\n",
        "  for i in range(nCity):\n",
        "    flag=0\n",
        "    if (i==end):\n",
        "      flag=1\n",
        "    for j in range(len(tabuNow)):\n",
        "      if (i==tabuNow[j]):\n",
        "        flag=1\n",
        "    if(flag==0):\n",
        "      tabuCopy=tabuNow.copy()\n",
        "      tabuCopy.append(i)\n",
        "      Gross(tabuCopy,i)"
      ],
      "execution_count": null,
      "outputs": []
    },
    {
      "cell_type": "code",
      "metadata": {
        "id": "-q8yS8w7lgsu"
      },
      "source": [
        "def Together(route1,route2): # Скрещивание для Генетического алгоритма\n",
        "  newroute=[]\n",
        "  newrouteTail=[]\n",
        "  for i in range(len(route1)):\n",
        "    if (i%2==0):\n",
        "      for First in range(len(route1)):\n",
        "        flag=0\n",
        "        for Finding1 in range(len(newroute)):\n",
        "          if(newroute[Finding1]==route1[First]):\n",
        "            flag=1\n",
        "            break\n",
        "        if(flag==0):\n",
        "          for Finding2 in range(len(newrouteTail)):\n",
        "            if(newrouteTail[Finding2]==route1[First]):\n",
        "              flag=1\n",
        "              break\n",
        "        if(flag==0):\n",
        "          newroute.append(route1[First])\n",
        "          break\n",
        "    else:\n",
        "      for Second in range(len(route2)):\n",
        "        flag=0\n",
        "        for Finding1 in range(len(newroute)):\n",
        "          if(newroute[Finding1]==route2[len(route2)-Second-1]):\n",
        "            flag=1\n",
        "            break\n",
        "        if(flag==0):\n",
        "          for Finding2 in range(len(newrouteTail)):\n",
        "            if(newrouteTail[Finding2]==route2[len(route2)-Second-1]):\n",
        "              flag=1\n",
        "              break\n",
        "        if(flag==0):\n",
        "          newrouteTail.append(route2[len(route2)-Second-1])\n",
        "          break\n",
        "  for i in range(len(newrouteTail)):\n",
        "    newroute.append(newrouteTail[len(newrouteTail)-i-1])\n",
        "  return newroute"
      ],
      "execution_count": null,
      "outputs": []
    },
    {
      "cell_type": "code",
      "metadata": {
        "id": "OLrEo7_U4MWL"
      },
      "source": [
        "def Mutation1(route): #Вариант 1 мутации генома генетичкого алгоритма\n",
        "  newroute=route.copy()\n",
        "  cit1=random.randint(1,len(route)-2)\n",
        "  cit2=random.randint(1,len(route)-2)\n",
        "  newroute[cit1]=route[cit2]\n",
        "  newroute[cit2]=route[cit1]\n",
        "  return newroute"
      ],
      "execution_count": null,
      "outputs": []
    },
    {
      "cell_type": "code",
      "metadata": {
        "id": "yfAiqwiN79n2"
      },
      "source": [
        "def Mutation2(route): #Вариант 2 мутации генома генетичкого алгоритма\n",
        "  newroute=route.copy()\n",
        "  cit1=random.randint(1,len(route)-2)\n",
        "  cit2=random.randint(1,len(route)-2)\n",
        "  delta=cit2-cit1\n",
        "  if (cit1>cit2):\n",
        "    for i in range(cit1-cit2+1):\n",
        "      newroute[cit2+i]=route[cit1-i]\n",
        "  else:\n",
        "    for i in range(cit2-cit1+1):\n",
        "      newroute[cit1+i]=route[cit2-i]\n",
        "  return newroute"
      ],
      "execution_count": null,
      "outputs": []
    },
    {
      "cell_type": "code",
      "metadata": {
        "id": "ox5AEtk6-bd-"
      },
      "source": [
        "def Mutation3(route): #Вариант 3 мутации генома генетичкого алгоритма\n",
        "  newroute=route.copy()\n",
        "  cit1=random.randint(1,len(route)-2)\n",
        "  cit2=random.randint(1,len(route)-2)\n",
        "  delta=cit2-cit1\n",
        "  if (cit1>cit2):\n",
        "    for i in range(cit1-cit2):\n",
        "      newroute[cit2+i+1]=route[cit2+i]\n",
        "    newroute[cit2]=route[cit1]\n",
        "  else:\n",
        "    for i in range(cit2-cit1):\n",
        "      newroute[cit1+i+1]=route[cit1+i]\n",
        "    newroute[cit1]=route[cit2]\n",
        "  return newroute"
      ],
      "execution_count": null,
      "outputs": []
    },
    {
      "cell_type": "code",
      "metadata": {
        "id": "ZXX-tpfTSCPK"
      },
      "source": [
        "def RandGen(): #Случайная генерация первого поколения для генетичкого алгоритма\n",
        "  newroute=[]\n",
        "  newroute.append(start)\n",
        "  inside=[]\n",
        "  for i in range(nCity):\n",
        "    if(i!=start and i!=end):\n",
        "      inside.append(i)\n",
        "  random.shuffle(inside)\n",
        "  for j in range(len(inside)):\n",
        "    newroute.append(inside[j])\n",
        "  newroute.append(end)\n",
        "  return newroute"
      ],
      "execution_count": null,
      "outputs": []
    },
    {
      "cell_type": "code",
      "metadata": {
        "id": "g3aGZubPZ7en"
      },
      "source": [
        "def Find2Best(genlen): #Нахождение двух лучших геномов среди поколения генетического алгоритма\n",
        "  top1=100000000\n",
        "  top2=100000000\n",
        "  ntop1=0\n",
        "  ntop2=0\n",
        "  flagN=0\n",
        "  for i in range (len(genlen)):\n",
        "    if (genlen[i]<top1):\n",
        "      if(flagN==1):\n",
        "        ntop2=ntop1\n",
        "      top2=top1\n",
        "      top1=genlen[i]\n",
        "      ntop1=i\n",
        "    elif (genlen[i]<top2):\n",
        "      flagN=1\n",
        "      top2=genlen[i]\n",
        "      ntop2=i\n",
        "  return ntop1,ntop2"
      ],
      "execution_count": null,
      "outputs": []
    },
    {
      "cell_type": "code",
      "metadata": {
        "id": "UiBzHnaYl0If"
      },
      "source": [
        "def FindBest(genlen): #Нахождение одного лучшего генома среди поколения генетического алгоритма\n",
        "  top1=100000000\n",
        "  ntop1=0\n",
        "  for i in range (len(genlen)):\n",
        "    if (genlen[i]<top1):\n",
        "      top1=genlen[i]\n",
        "      ntop1=i\n",
        "  return ntop1"
      ],
      "execution_count": null,
      "outputs": []
    },
    {
      "cell_type": "code",
      "metadata": {
        "id": "oR60YMHvkQMg"
      },
      "source": [
        "def Selection(r1,r2): #Скрещивание двух лучших геномов поколения генетического алгоритма\n",
        "  child1=Together(r1,r2)\n",
        "  child2=Together(r2,r1)\n",
        "  toplist=[r1,r2,child1,child2]\n",
        "  toplen=[Length(r1),Length(r2),Length(child1),Length(child2)]\n",
        "  return toplist[FindBest(toplen)]"
      ],
      "execution_count": null,
      "outputs": []
    },
    {
      "cell_type": "code",
      "metadata": {
        "id": "dhjlaBOixxIv"
      },
      "source": [
        "def RankModSort(FirstList): #Сортировка списка маршрутов для модификации ASrank\n",
        "  TopList=[]\n",
        "  LenList=[]\n",
        "  for i in range (len(FirstList)-1):\n",
        "    flag=0\n",
        "    l=Length(FirstList[i])\n",
        "    for j in range(len(TopList)-1):\n",
        "      if(l<LenList[j]):\n",
        "        flag=1\n",
        "        TopList.insert(j,FirstList[i])\n",
        "        LenList.insert(j,l)\n",
        "        break\n",
        "    if(flag==0):\n",
        "      TopList.append(FirstList[i])\n",
        "      LenList.append(l)\n",
        "  return TopList, LenList"
      ],
      "execution_count": null,
      "outputs": []
    },
    {
      "cell_type": "code",
      "metadata": {
        "id": "dPmQe5fN11Od"
      },
      "source": [
        "def RankModPher(TopList, LenList): #Распределение феромонов для модификации ASrank\n",
        "  for i in range(len(TopList)-1):\n",
        "    for sch in range(len(TopList[i])-1):\n",
        "      deltaPher[TopList[i][sch]][TopList[i][sch+1]]+=(Q/l)*(1-i/len(TopList))\n",
        "      deltaPher[TopList[i][sch+1]][TopList[i][sch]]=deltaPher[TopList[i][sch]][TopList[i][sch+1]]"
      ],
      "execution_count": null,
      "outputs": []
    },
    {
      "cell_type": "code",
      "metadata": {
        "id": "OgZAD3kywbmg"
      },
      "source": [
        "def LocalFind(route): #Гибридный элемент локального поиска на маршруте\n",
        "  best=Length(route)\n",
        "  outroute=route.copy()\n",
        "  for i in range(2,len(route)-2):\n",
        "    for j in range(i-10,i):\n",
        "      if(j<1):\n",
        "        break\n",
        "      newroute=route.copy()\n",
        "      for k in range(i-j):\n",
        "        newroute[j+k+1]=route[j+k]\n",
        "      newroute[j]=route[i]\n",
        "      if (Length(newroute)<best):\n",
        "        best=Length(newroute)\n",
        "        outroute=newroute\n",
        "  return outroute"
      ],
      "execution_count": null,
      "outputs": []
    },
    {
      "cell_type": "code",
      "metadata": {
        "id": "xk0uFx6CPQCO"
      },
      "source": [
        "point_x=[]\n",
        "point_y=[]\n",
        "point_near=[]\n",
        "\n",
        "window_x=400 #ширина поля\n",
        "window_y=400 #высота поля\n",
        "ScrCoef=2 #Масштабирование при выводе карт\n",
        "\n",
        "start=0 #Точка муравейника\n",
        "end=1 #Точка цели\n",
        "\n",
        "nCity=50 #Количество вершин\n",
        "\n",
        "lenTrail = [[0 for j in range(nCity)] for i in range(nCity)]\n",
        "do_point_map()\n",
        "FirstDraw() #Сохранение рисунка карты\n"
      ],
      "execution_count": null,
      "outputs": []
    },
    {
      "cell_type": "code",
      "metadata": {
        "id": "wkUPUASF5YsC"
      },
      "source": [
        "nAnt=25 #Количество простых муравьёв\n",
        "Alpha=2 #Коэффициент альфа (порядка значимости феромона)\n",
        "Beta=4 #Коэффициент бэта (порядка значимости длины пути)\n",
        "Rho=0.3 #Коэффициент испарения феромона\n",
        "Q=2000 #Коэффициент увеличения феромона\n",
        "\n",
        "pherMin=1 #Минимальное количество феромона на рёбрах графа\n",
        "pherMax=30 #Максимальное количество феромона на рёбрах графа"
      ],
      "execution_count": null,
      "outputs": []
    },
    {
      "cell_type": "code",
      "metadata": {
        "id": "pKls0zIaJDmc"
      },
      "source": [
        "# Модификации\n",
        "nElite=0 #Количество элитных муравьёв\n",
        "ASrank=0 #Модификация ASrank. 1 - активно, 0 - неактивно\n",
        "LocalMin=1 #Добавление элемента локального поиска. 1 - активно, 0 - неактивно"
      ],
      "execution_count": null,
      "outputs": []
    },
    {
      "cell_type": "code",
      "metadata": {
        "id": "ibfkzFW7eKvh"
      },
      "source": [
        "# Имена и циклы\n",
        "dir_name=\"Tests\"\n",
        "\n",
        "# Первая переменная цикла \n",
        "Par1Name=\"Q\"\n",
        "Rng1max = 1\n",
        "Par1Mas=[500,1000,2000,4000,8000,12000,16000] # массив значений 1ой переменной\n",
        "\n",
        "# Вторая переменная цикла\n",
        "Par2Name=\"Rho\"\n",
        "Rng2max = 1\n",
        "Par2Mas=[0.3] # массив значений 2ой переменной\n",
        "\n",
        "# Третья переменная цикла\n",
        "Par3Name=\"nElite\"\n",
        "Rng3max = 1\n",
        "Par3Mas=[0,1,2,3,4,5,7,10]\n",
        "\n",
        "MaxCikl=9\n",
        "\n",
        "ShowProcessMaps=1 # Отображение промежуточных маршрутов на картах: 0 - нет, 1 - да\n",
        "ShowProgressString=0 # Отображение строк с нахождением новых оптимальных путей: 0 - нет, 1 - да\n",
        "AllLines=0 # Отображение на промежуточных картах всех рёбер и феромонов: 0 - нет, 1 - да"
      ],
      "execution_count": null,
      "outputs": []
    },
    {
      "cell_type": "code",
      "metadata": {
        "id": "JAhZInswPFIf",
        "colab": {
          "base_uri": "https://localhost:8080/"
        },
        "outputId": "3756218d-94d0-41d4-e4b5-d081d6639c4a"
      },
      "source": [
        "#Цикл для исследования ACO с различными параметрами\n",
        "if (os.path.exists(dir_name)):\n",
        "  rmtree(dir_name)\n",
        "if (ShowProcessMaps==1):\n",
        "  os.mkdir(dir_name)\n",
        "\n",
        "BestList=[]\n",
        "TimerList=[]\n",
        "StepList=[]\n",
        "MedianList=[]\n",
        "MidList=[]\n",
        "TimeMidList=[]\n",
        "\n",
        "for Par1 in range(Rng1max):\n",
        "  #Q=Par1Mas[Par1]\n",
        "  \n",
        "  BestListPar1=[]\n",
        "  TimerListPar1=[]\n",
        "  StepListPar1=[]\n",
        "  MedianListPar1=[]\n",
        "  MidListPar1=[]\n",
        "  TimeMidListPar1=[]\n",
        "  \n",
        "  if(ShowProcessMaps==1):\n",
        "    dir_name1=dir_name+\"/\"+Par1Name+\"_\"+str(Par1)\n",
        "    os.mkdir(dir_name1)\n",
        "  for Par2 in range(Rng2max):\n",
        "    #Rho=Par2Mas[Par2]\n",
        "\n",
        "    BestListPar2=[]\n",
        "    TimerListPar2=[]\n",
        "    StepListPar2=[]\n",
        "    MedianListPar2=[]\n",
        "    MidListPar2=[]\n",
        "    TimeMidListPar2=[]\n",
        "\n",
        "    if(ShowProcessMaps==1):\n",
        "      dir_name2=dir_name1+\"/\"+Par2Name+\"_\"+str(Par2)\n",
        "      os.mkdir(dir_name2)\n",
        "\n",
        "    for Par3 in range(Rng3max):\n",
        "      #Q=Par3Mas[Par3]\n",
        "\n",
        "      BestListPar3=[]\n",
        "      TimerListPar3=[]\n",
        "      StepListPar3=[]\n",
        "\n",
        "      if(ShowProcessMaps==1):\n",
        "        dir_name3=dir_name2+\"/\"+Par3Name+\"_\"+str(Par3)\n",
        "        os.mkdir(dir_name3)\n",
        "      for Cikl in range(MaxCikl):\n",
        "        BestListCikl=[]\n",
        "        TimerListCikl=[]\n",
        "        StepListCikl=[]\n",
        "        RealStartTime = time.time()\n",
        "\n",
        "        if(ShowProcessMaps==1):\n",
        "          dir_name4=dir_name3+\"/\"+\"Cikl\"+\"_\"+str(Cikl+1)\n",
        "          os.mkdir(dir_name4)\n",
        "        pherTrail = [[pherMin for j in range(nCity)] for i in range(nCity)]\n",
        "        deltaPher = [[0 for j in range(nCity)] for i in range(nCity)]\n",
        "        bestLen=-1\n",
        "        bestTrail=[]\n",
        "        bestTime=0\n",
        "        #Tend//nAnt+(nAnt//10)*70\n",
        "        step=0\n",
        "        while(time.time()-RealStartTime<1.5):\n",
        "          step+=1\n",
        "\n",
        "          if(ASrank==1):\n",
        "            StepRoutes=[]\n",
        "            StepLens=[]\n",
        "\n",
        "          for Ant in range(nAnt):\n",
        "            if(step%2==0):\n",
        "              way=March(start,end)\n",
        "            else:\n",
        "              way=March(end,start)\n",
        "            if(LocalMin==1):\n",
        "              way=LocalFind(way)\n",
        "            l=Length(way)\n",
        "            if(bestLen==-1 or l<bestLen):\n",
        "              bestLen=l\n",
        "              bestTrail=way\n",
        "              bestTime=step\n",
        "              \n",
        "              RealNowTime = time.time()\n",
        "              BestListCikl.append(bestLen)\n",
        "              TimerListCikl.append(RealNowTime-RealStartTime)\n",
        "              StepListCikl.append(step)\n",
        "\n",
        "              if(ShowProgressString==1):\n",
        "                print(\"На шаге\",step,\" (\",round(RealNowTime-RealStartTime,4),\"сек) найден путь длиной\",bestLen)\n",
        "              if(ShowProcessMaps==1):\n",
        "                ProgressDraw(step,round(bestLen,1),bestTrail,dir_name4)\n",
        "            \n",
        "              if(ASrank==1):\n",
        "                StepRoutes.append(way)\n",
        "            if(ASrank==1):\n",
        "              StepRoutes,StepLens=RankModSort(StepRoutes)\n",
        "              RankModPher(StepRoutes,StepLens)\n",
        "            else:\n",
        "              PutPher(way,l)\n",
        "\n",
        "          for EliteAnt in range(nElite):\n",
        "            PutPher(bestTrail,bestLen)\n",
        "          UpdPher()\n",
        "        if(ShowProgressString==1):\n",
        "          print(\"len\",bestLen)\n",
        "          print(\"step\",bestTime)\n",
        "          print(\"time\",round(RealNowTime-RealStartTime,4))\n",
        "          #print(Par1Name,Par1Mas[Par1])\n",
        "          #print(Par2Name,Par2Mas[Par2])\n",
        "          #print(Par3Name,Par3Mas[Par3])\n",
        "          #print(\"Cikl = \"+str(Cikl))\n",
        "        print(Par1*Rng2max*Rng3max*MaxCikl+Par2*Rng3max*MaxCikl+Par3*MaxCikl+Cikl+1,\"/\",Rng1max*Rng2max*Rng3max*MaxCikl)\n",
        "\n",
        "        BestListPar3.append(BestListCikl) #Собираем в список с каждого цикла\n",
        "        TimerListPar3.append(TimerListCikl)\n",
        "        StepListPar3.append(StepListCikl)\n",
        "      \n",
        "      copyBest=BestListPar3.copy()\n",
        "      copyBest.sort()\n",
        "      Median=copyBest[MaxCikl//2]\n",
        "      for k in range (MaxCikl):\n",
        "        if(BestListPar3[k]==Median):\n",
        "          MedianNum=k\n",
        "          break\n",
        "      \n",
        "      sum=0\n",
        "      for k in range (MaxCikl):\n",
        "        sum+=BestListPar3[k][len(BestListPar3[k])-1]\n",
        "      Mid=sum/MaxCikl\n",
        "      MidListPar2.append(Mid)\n",
        "\n",
        "      Timesum=0\n",
        "      for k in range (MaxCikl):\n",
        "        Timesum+=TimerListPar3[k][len(BestListPar3[k])-1]\n",
        "      TimeMid=Timesum/MaxCikl\n",
        "      TimeMidListPar2.append(TimeMid)\n",
        "\n",
        "\n",
        "      MedianListPar2.append(MedianNum) #Собираем в список разных параметров 3\n",
        "      BestListPar2.append(BestListPar3) \n",
        "      TimerListPar2.append(TimerListPar3)\n",
        "      StepListPar2.append(StepListPar3)\n",
        "    MidListPar1.append(MidListPar2)\n",
        "    TimeMidListPar1.append(TimeMidListPar2)\n",
        "    MedianListPar1.append(MedianListPar2) #Собираем в список разных параметров 2\n",
        "    BestListPar1.append(BestListPar2) \n",
        "    TimerListPar1.append(TimerListPar2)\n",
        "    StepListPar1.append(StepListPar2)\n",
        "  MidList.append(MidListPar1)\n",
        "  TimeMidList.append(TimeMidListPar1)\n",
        "  MedianList.append(MedianListPar1) #Собираем в список разных параметров 1\n",
        "  BestList.append(BestListPar1)\n",
        "  TimerList.append(TimerListPar1)\n",
        "  StepList.append(StepListPar1)\n"
      ],
      "execution_count": null,
      "outputs": [
        {
          "output_type": "stream",
          "name": "stdout",
          "text": [
            "1 / 9\n",
            "2 / 9\n",
            "3 / 9\n",
            "4 / 9\n",
            "5 / 9\n",
            "6 / 9\n",
            "7 / 9\n",
            "8 / 9\n",
            "9 / 9\n"
          ]
        }
      ]
    },
    {
      "cell_type": "code",
      "metadata": {
        "colab": {
          "base_uri": "https://localhost:8080/",
          "height": 398
        },
        "id": "rsJY6VTT4L_5",
        "outputId": "853795cc-d5a9-48ca-88fc-7258433ee5d7"
      },
      "source": [
        "#Полный перебор\n",
        "StartTime = time.time()\n",
        "tabu=[]\n",
        "GrossTime=[]\n",
        "GrossLen=[]\n",
        "tabu.append(start)\n",
        "Gross(tabu,start)\n",
        "NowTime=time.time()\n",
        "AllTime=NowTime-StartTime\n",
        "print(AllTime)\n",
        "print(GrossLen[len(GrossLen)-1])"
      ],
      "execution_count": null,
      "outputs": [
        {
          "output_type": "error",
          "ename": "KeyboardInterrupt",
          "evalue": "ignored",
          "traceback": [
            "\u001b[0;31m---------------------------------------------------------------------------\u001b[0m",
            "\u001b[0;31mKeyboardInterrupt\u001b[0m                         Traceback (most recent call last)",
            "\u001b[0;32m<ipython-input-28-d33a232bb360>\u001b[0m in \u001b[0;36m<module>\u001b[0;34m()\u001b[0m\n\u001b[1;32m      5\u001b[0m \u001b[0mGrossLen\u001b[0m\u001b[0;34m=\u001b[0m\u001b[0;34m[\u001b[0m\u001b[0;34m]\u001b[0m\u001b[0;34m\u001b[0m\u001b[0;34m\u001b[0m\u001b[0m\n\u001b[1;32m      6\u001b[0m \u001b[0mtabu\u001b[0m\u001b[0;34m.\u001b[0m\u001b[0mappend\u001b[0m\u001b[0;34m(\u001b[0m\u001b[0mstart\u001b[0m\u001b[0;34m)\u001b[0m\u001b[0;34m\u001b[0m\u001b[0;34m\u001b[0m\u001b[0m\n\u001b[0;32m----> 7\u001b[0;31m \u001b[0mGross\u001b[0m\u001b[0;34m(\u001b[0m\u001b[0mtabu\u001b[0m\u001b[0;34m,\u001b[0m\u001b[0mstart\u001b[0m\u001b[0;34m)\u001b[0m\u001b[0;34m\u001b[0m\u001b[0;34m\u001b[0m\u001b[0m\n\u001b[0m\u001b[1;32m      8\u001b[0m \u001b[0mNowTime\u001b[0m\u001b[0;34m=\u001b[0m\u001b[0mtime\u001b[0m\u001b[0;34m.\u001b[0m\u001b[0mtime\u001b[0m\u001b[0;34m(\u001b[0m\u001b[0;34m)\u001b[0m\u001b[0;34m\u001b[0m\u001b[0;34m\u001b[0m\u001b[0m\n\u001b[1;32m      9\u001b[0m \u001b[0mAllTime\u001b[0m\u001b[0;34m=\u001b[0m\u001b[0mNowTime\u001b[0m\u001b[0;34m-\u001b[0m\u001b[0mStartTime\u001b[0m\u001b[0;34m\u001b[0m\u001b[0;34m\u001b[0m\u001b[0m\n",
            "\u001b[0;32m<ipython-input-11-ca10da09a4a9>\u001b[0m in \u001b[0;36mGross\u001b[0;34m(tabuNow, now)\u001b[0m\n\u001b[1;32m     24\u001b[0m       \u001b[0mtabuCopy\u001b[0m\u001b[0;34m=\u001b[0m\u001b[0mtabuNow\u001b[0m\u001b[0;34m.\u001b[0m\u001b[0mcopy\u001b[0m\u001b[0;34m(\u001b[0m\u001b[0;34m)\u001b[0m\u001b[0;34m\u001b[0m\u001b[0;34m\u001b[0m\u001b[0m\n\u001b[1;32m     25\u001b[0m       \u001b[0mtabuCopy\u001b[0m\u001b[0;34m.\u001b[0m\u001b[0mappend\u001b[0m\u001b[0;34m(\u001b[0m\u001b[0mi\u001b[0m\u001b[0;34m)\u001b[0m\u001b[0;34m\u001b[0m\u001b[0;34m\u001b[0m\u001b[0m\n\u001b[0;32m---> 26\u001b[0;31m       \u001b[0mGross\u001b[0m\u001b[0;34m(\u001b[0m\u001b[0mtabuCopy\u001b[0m\u001b[0;34m,\u001b[0m\u001b[0mi\u001b[0m\u001b[0;34m)\u001b[0m\u001b[0;34m\u001b[0m\u001b[0;34m\u001b[0m\u001b[0m\n\u001b[0m",
            "\u001b[0;32m<ipython-input-11-ca10da09a4a9>\u001b[0m in \u001b[0;36mGross\u001b[0;34m(tabuNow, now)\u001b[0m\n\u001b[1;32m     24\u001b[0m       \u001b[0mtabuCopy\u001b[0m\u001b[0;34m=\u001b[0m\u001b[0mtabuNow\u001b[0m\u001b[0;34m.\u001b[0m\u001b[0mcopy\u001b[0m\u001b[0;34m(\u001b[0m\u001b[0;34m)\u001b[0m\u001b[0;34m\u001b[0m\u001b[0;34m\u001b[0m\u001b[0m\n\u001b[1;32m     25\u001b[0m       \u001b[0mtabuCopy\u001b[0m\u001b[0;34m.\u001b[0m\u001b[0mappend\u001b[0m\u001b[0;34m(\u001b[0m\u001b[0mi\u001b[0m\u001b[0;34m)\u001b[0m\u001b[0;34m\u001b[0m\u001b[0;34m\u001b[0m\u001b[0m\n\u001b[0;32m---> 26\u001b[0;31m       \u001b[0mGross\u001b[0m\u001b[0;34m(\u001b[0m\u001b[0mtabuCopy\u001b[0m\u001b[0;34m,\u001b[0m\u001b[0mi\u001b[0m\u001b[0;34m)\u001b[0m\u001b[0;34m\u001b[0m\u001b[0;34m\u001b[0m\u001b[0m\n\u001b[0m",
            "\u001b[0;32m<ipython-input-11-ca10da09a4a9>\u001b[0m in \u001b[0;36mGross\u001b[0;34m(tabuNow, now)\u001b[0m\n\u001b[1;32m     24\u001b[0m       \u001b[0mtabuCopy\u001b[0m\u001b[0;34m=\u001b[0m\u001b[0mtabuNow\u001b[0m\u001b[0;34m.\u001b[0m\u001b[0mcopy\u001b[0m\u001b[0;34m(\u001b[0m\u001b[0;34m)\u001b[0m\u001b[0;34m\u001b[0m\u001b[0;34m\u001b[0m\u001b[0m\n\u001b[1;32m     25\u001b[0m       \u001b[0mtabuCopy\u001b[0m\u001b[0;34m.\u001b[0m\u001b[0mappend\u001b[0m\u001b[0;34m(\u001b[0m\u001b[0mi\u001b[0m\u001b[0;34m)\u001b[0m\u001b[0;34m\u001b[0m\u001b[0;34m\u001b[0m\u001b[0m\n\u001b[0;32m---> 26\u001b[0;31m       \u001b[0mGross\u001b[0m\u001b[0;34m(\u001b[0m\u001b[0mtabuCopy\u001b[0m\u001b[0;34m,\u001b[0m\u001b[0mi\u001b[0m\u001b[0;34m)\u001b[0m\u001b[0;34m\u001b[0m\u001b[0;34m\u001b[0m\u001b[0m\n\u001b[0m",
            "\u001b[0;32m<ipython-input-11-ca10da09a4a9>\u001b[0m in \u001b[0;36mGross\u001b[0;34m(tabuNow, now)\u001b[0m\n\u001b[1;32m     24\u001b[0m       \u001b[0mtabuCopy\u001b[0m\u001b[0;34m=\u001b[0m\u001b[0mtabuNow\u001b[0m\u001b[0;34m.\u001b[0m\u001b[0mcopy\u001b[0m\u001b[0;34m(\u001b[0m\u001b[0;34m)\u001b[0m\u001b[0;34m\u001b[0m\u001b[0;34m\u001b[0m\u001b[0m\n\u001b[1;32m     25\u001b[0m       \u001b[0mtabuCopy\u001b[0m\u001b[0;34m.\u001b[0m\u001b[0mappend\u001b[0m\u001b[0;34m(\u001b[0m\u001b[0mi\u001b[0m\u001b[0;34m)\u001b[0m\u001b[0;34m\u001b[0m\u001b[0;34m\u001b[0m\u001b[0m\n\u001b[0;32m---> 26\u001b[0;31m       \u001b[0mGross\u001b[0m\u001b[0;34m(\u001b[0m\u001b[0mtabuCopy\u001b[0m\u001b[0;34m,\u001b[0m\u001b[0mi\u001b[0m\u001b[0;34m)\u001b[0m\u001b[0;34m\u001b[0m\u001b[0;34m\u001b[0m\u001b[0m\n\u001b[0m",
            "\u001b[0;32m<ipython-input-11-ca10da09a4a9>\u001b[0m in \u001b[0;36mGross\u001b[0;34m(tabuNow, now)\u001b[0m\n\u001b[1;32m     24\u001b[0m       \u001b[0mtabuCopy\u001b[0m\u001b[0;34m=\u001b[0m\u001b[0mtabuNow\u001b[0m\u001b[0;34m.\u001b[0m\u001b[0mcopy\u001b[0m\u001b[0;34m(\u001b[0m\u001b[0;34m)\u001b[0m\u001b[0;34m\u001b[0m\u001b[0;34m\u001b[0m\u001b[0m\n\u001b[1;32m     25\u001b[0m       \u001b[0mtabuCopy\u001b[0m\u001b[0;34m.\u001b[0m\u001b[0mappend\u001b[0m\u001b[0;34m(\u001b[0m\u001b[0mi\u001b[0m\u001b[0;34m)\u001b[0m\u001b[0;34m\u001b[0m\u001b[0;34m\u001b[0m\u001b[0m\n\u001b[0;32m---> 26\u001b[0;31m       \u001b[0mGross\u001b[0m\u001b[0;34m(\u001b[0m\u001b[0mtabuCopy\u001b[0m\u001b[0;34m,\u001b[0m\u001b[0mi\u001b[0m\u001b[0;34m)\u001b[0m\u001b[0;34m\u001b[0m\u001b[0;34m\u001b[0m\u001b[0m\n\u001b[0m",
            "\u001b[0;32m<ipython-input-11-ca10da09a4a9>\u001b[0m in \u001b[0;36mGross\u001b[0;34m(tabuNow, now)\u001b[0m\n\u001b[1;32m     24\u001b[0m       \u001b[0mtabuCopy\u001b[0m\u001b[0;34m=\u001b[0m\u001b[0mtabuNow\u001b[0m\u001b[0;34m.\u001b[0m\u001b[0mcopy\u001b[0m\u001b[0;34m(\u001b[0m\u001b[0;34m)\u001b[0m\u001b[0;34m\u001b[0m\u001b[0;34m\u001b[0m\u001b[0m\n\u001b[1;32m     25\u001b[0m       \u001b[0mtabuCopy\u001b[0m\u001b[0;34m.\u001b[0m\u001b[0mappend\u001b[0m\u001b[0;34m(\u001b[0m\u001b[0mi\u001b[0m\u001b[0;34m)\u001b[0m\u001b[0;34m\u001b[0m\u001b[0;34m\u001b[0m\u001b[0m\n\u001b[0;32m---> 26\u001b[0;31m       \u001b[0mGross\u001b[0m\u001b[0;34m(\u001b[0m\u001b[0mtabuCopy\u001b[0m\u001b[0;34m,\u001b[0m\u001b[0mi\u001b[0m\u001b[0;34m)\u001b[0m\u001b[0;34m\u001b[0m\u001b[0;34m\u001b[0m\u001b[0m\n\u001b[0m",
            "\u001b[0;32m<ipython-input-11-ca10da09a4a9>\u001b[0m in \u001b[0;36mGross\u001b[0;34m(tabuNow, now)\u001b[0m\n\u001b[1;32m     24\u001b[0m       \u001b[0mtabuCopy\u001b[0m\u001b[0;34m=\u001b[0m\u001b[0mtabuNow\u001b[0m\u001b[0;34m.\u001b[0m\u001b[0mcopy\u001b[0m\u001b[0;34m(\u001b[0m\u001b[0;34m)\u001b[0m\u001b[0;34m\u001b[0m\u001b[0;34m\u001b[0m\u001b[0m\n\u001b[1;32m     25\u001b[0m       \u001b[0mtabuCopy\u001b[0m\u001b[0;34m.\u001b[0m\u001b[0mappend\u001b[0m\u001b[0;34m(\u001b[0m\u001b[0mi\u001b[0m\u001b[0;34m)\u001b[0m\u001b[0;34m\u001b[0m\u001b[0;34m\u001b[0m\u001b[0m\n\u001b[0;32m---> 26\u001b[0;31m       \u001b[0mGross\u001b[0m\u001b[0;34m(\u001b[0m\u001b[0mtabuCopy\u001b[0m\u001b[0;34m,\u001b[0m\u001b[0mi\u001b[0m\u001b[0;34m)\u001b[0m\u001b[0;34m\u001b[0m\u001b[0;34m\u001b[0m\u001b[0m\n\u001b[0m",
            "\u001b[0;32m<ipython-input-11-ca10da09a4a9>\u001b[0m in \u001b[0;36mGross\u001b[0;34m(tabuNow, now)\u001b[0m\n\u001b[1;32m     24\u001b[0m       \u001b[0mtabuCopy\u001b[0m\u001b[0;34m=\u001b[0m\u001b[0mtabuNow\u001b[0m\u001b[0;34m.\u001b[0m\u001b[0mcopy\u001b[0m\u001b[0;34m(\u001b[0m\u001b[0;34m)\u001b[0m\u001b[0;34m\u001b[0m\u001b[0;34m\u001b[0m\u001b[0m\n\u001b[1;32m     25\u001b[0m       \u001b[0mtabuCopy\u001b[0m\u001b[0;34m.\u001b[0m\u001b[0mappend\u001b[0m\u001b[0;34m(\u001b[0m\u001b[0mi\u001b[0m\u001b[0;34m)\u001b[0m\u001b[0;34m\u001b[0m\u001b[0;34m\u001b[0m\u001b[0m\n\u001b[0;32m---> 26\u001b[0;31m       \u001b[0mGross\u001b[0m\u001b[0;34m(\u001b[0m\u001b[0mtabuCopy\u001b[0m\u001b[0;34m,\u001b[0m\u001b[0mi\u001b[0m\u001b[0;34m)\u001b[0m\u001b[0;34m\u001b[0m\u001b[0;34m\u001b[0m\u001b[0m\n\u001b[0m",
            "\u001b[0;32m<ipython-input-11-ca10da09a4a9>\u001b[0m in \u001b[0;36mGross\u001b[0;34m(tabuNow, now)\u001b[0m\n\u001b[1;32m     24\u001b[0m       \u001b[0mtabuCopy\u001b[0m\u001b[0;34m=\u001b[0m\u001b[0mtabuNow\u001b[0m\u001b[0;34m.\u001b[0m\u001b[0mcopy\u001b[0m\u001b[0;34m(\u001b[0m\u001b[0;34m)\u001b[0m\u001b[0;34m\u001b[0m\u001b[0;34m\u001b[0m\u001b[0m\n\u001b[1;32m     25\u001b[0m       \u001b[0mtabuCopy\u001b[0m\u001b[0;34m.\u001b[0m\u001b[0mappend\u001b[0m\u001b[0;34m(\u001b[0m\u001b[0mi\u001b[0m\u001b[0;34m)\u001b[0m\u001b[0;34m\u001b[0m\u001b[0;34m\u001b[0m\u001b[0m\n\u001b[0;32m---> 26\u001b[0;31m       \u001b[0mGross\u001b[0m\u001b[0;34m(\u001b[0m\u001b[0mtabuCopy\u001b[0m\u001b[0;34m,\u001b[0m\u001b[0mi\u001b[0m\u001b[0;34m)\u001b[0m\u001b[0;34m\u001b[0m\u001b[0;34m\u001b[0m\u001b[0m\n\u001b[0m",
            "\u001b[0;32m<ipython-input-11-ca10da09a4a9>\u001b[0m in \u001b[0;36mGross\u001b[0;34m(tabuNow, now)\u001b[0m\n\u001b[1;32m     24\u001b[0m       \u001b[0mtabuCopy\u001b[0m\u001b[0;34m=\u001b[0m\u001b[0mtabuNow\u001b[0m\u001b[0;34m.\u001b[0m\u001b[0mcopy\u001b[0m\u001b[0;34m(\u001b[0m\u001b[0;34m)\u001b[0m\u001b[0;34m\u001b[0m\u001b[0;34m\u001b[0m\u001b[0m\n\u001b[1;32m     25\u001b[0m       \u001b[0mtabuCopy\u001b[0m\u001b[0;34m.\u001b[0m\u001b[0mappend\u001b[0m\u001b[0;34m(\u001b[0m\u001b[0mi\u001b[0m\u001b[0;34m)\u001b[0m\u001b[0;34m\u001b[0m\u001b[0;34m\u001b[0m\u001b[0m\n\u001b[0;32m---> 26\u001b[0;31m       \u001b[0mGross\u001b[0m\u001b[0;34m(\u001b[0m\u001b[0mtabuCopy\u001b[0m\u001b[0;34m,\u001b[0m\u001b[0mi\u001b[0m\u001b[0;34m)\u001b[0m\u001b[0;34m\u001b[0m\u001b[0;34m\u001b[0m\u001b[0m\n\u001b[0m",
            "\u001b[0;32m<ipython-input-11-ca10da09a4a9>\u001b[0m in \u001b[0;36mGross\u001b[0;34m(tabuNow, now)\u001b[0m\n\u001b[1;32m     24\u001b[0m       \u001b[0mtabuCopy\u001b[0m\u001b[0;34m=\u001b[0m\u001b[0mtabuNow\u001b[0m\u001b[0;34m.\u001b[0m\u001b[0mcopy\u001b[0m\u001b[0;34m(\u001b[0m\u001b[0;34m)\u001b[0m\u001b[0;34m\u001b[0m\u001b[0;34m\u001b[0m\u001b[0m\n\u001b[1;32m     25\u001b[0m       \u001b[0mtabuCopy\u001b[0m\u001b[0;34m.\u001b[0m\u001b[0mappend\u001b[0m\u001b[0;34m(\u001b[0m\u001b[0mi\u001b[0m\u001b[0;34m)\u001b[0m\u001b[0;34m\u001b[0m\u001b[0;34m\u001b[0m\u001b[0m\n\u001b[0;32m---> 26\u001b[0;31m       \u001b[0mGross\u001b[0m\u001b[0;34m(\u001b[0m\u001b[0mtabuCopy\u001b[0m\u001b[0;34m,\u001b[0m\u001b[0mi\u001b[0m\u001b[0;34m)\u001b[0m\u001b[0;34m\u001b[0m\u001b[0;34m\u001b[0m\u001b[0m\n\u001b[0m",
            "\u001b[0;32m<ipython-input-11-ca10da09a4a9>\u001b[0m in \u001b[0;36mGross\u001b[0;34m(tabuNow, now)\u001b[0m\n\u001b[1;32m     24\u001b[0m       \u001b[0mtabuCopy\u001b[0m\u001b[0;34m=\u001b[0m\u001b[0mtabuNow\u001b[0m\u001b[0;34m.\u001b[0m\u001b[0mcopy\u001b[0m\u001b[0;34m(\u001b[0m\u001b[0;34m)\u001b[0m\u001b[0;34m\u001b[0m\u001b[0;34m\u001b[0m\u001b[0m\n\u001b[1;32m     25\u001b[0m       \u001b[0mtabuCopy\u001b[0m\u001b[0;34m.\u001b[0m\u001b[0mappend\u001b[0m\u001b[0;34m(\u001b[0m\u001b[0mi\u001b[0m\u001b[0;34m)\u001b[0m\u001b[0;34m\u001b[0m\u001b[0;34m\u001b[0m\u001b[0m\n\u001b[0;32m---> 26\u001b[0;31m       \u001b[0mGross\u001b[0m\u001b[0;34m(\u001b[0m\u001b[0mtabuCopy\u001b[0m\u001b[0;34m,\u001b[0m\u001b[0mi\u001b[0m\u001b[0;34m)\u001b[0m\u001b[0;34m\u001b[0m\u001b[0;34m\u001b[0m\u001b[0m\n\u001b[0m",
            "\u001b[0;32m<ipython-input-11-ca10da09a4a9>\u001b[0m in \u001b[0;36mGross\u001b[0;34m(tabuNow, now)\u001b[0m\n\u001b[1;32m     24\u001b[0m       \u001b[0mtabuCopy\u001b[0m\u001b[0;34m=\u001b[0m\u001b[0mtabuNow\u001b[0m\u001b[0;34m.\u001b[0m\u001b[0mcopy\u001b[0m\u001b[0;34m(\u001b[0m\u001b[0;34m)\u001b[0m\u001b[0;34m\u001b[0m\u001b[0;34m\u001b[0m\u001b[0m\n\u001b[1;32m     25\u001b[0m       \u001b[0mtabuCopy\u001b[0m\u001b[0;34m.\u001b[0m\u001b[0mappend\u001b[0m\u001b[0;34m(\u001b[0m\u001b[0mi\u001b[0m\u001b[0;34m)\u001b[0m\u001b[0;34m\u001b[0m\u001b[0;34m\u001b[0m\u001b[0m\n\u001b[0;32m---> 26\u001b[0;31m       \u001b[0mGross\u001b[0m\u001b[0;34m(\u001b[0m\u001b[0mtabuCopy\u001b[0m\u001b[0;34m,\u001b[0m\u001b[0mi\u001b[0m\u001b[0;34m)\u001b[0m\u001b[0;34m\u001b[0m\u001b[0;34m\u001b[0m\u001b[0m\n\u001b[0m",
            "\u001b[0;32m<ipython-input-11-ca10da09a4a9>\u001b[0m in \u001b[0;36mGross\u001b[0;34m(tabuNow, now)\u001b[0m\n\u001b[1;32m     24\u001b[0m       \u001b[0mtabuCopy\u001b[0m\u001b[0;34m=\u001b[0m\u001b[0mtabuNow\u001b[0m\u001b[0;34m.\u001b[0m\u001b[0mcopy\u001b[0m\u001b[0;34m(\u001b[0m\u001b[0;34m)\u001b[0m\u001b[0;34m\u001b[0m\u001b[0;34m\u001b[0m\u001b[0m\n\u001b[1;32m     25\u001b[0m       \u001b[0mtabuCopy\u001b[0m\u001b[0;34m.\u001b[0m\u001b[0mappend\u001b[0m\u001b[0;34m(\u001b[0m\u001b[0mi\u001b[0m\u001b[0;34m)\u001b[0m\u001b[0;34m\u001b[0m\u001b[0;34m\u001b[0m\u001b[0m\n\u001b[0;32m---> 26\u001b[0;31m       \u001b[0mGross\u001b[0m\u001b[0;34m(\u001b[0m\u001b[0mtabuCopy\u001b[0m\u001b[0;34m,\u001b[0m\u001b[0mi\u001b[0m\u001b[0;34m)\u001b[0m\u001b[0;34m\u001b[0m\u001b[0;34m\u001b[0m\u001b[0m\n\u001b[0m",
            "\u001b[0;32m<ipython-input-11-ca10da09a4a9>\u001b[0m in \u001b[0;36mGross\u001b[0;34m(tabuNow, now)\u001b[0m\n\u001b[1;32m     24\u001b[0m       \u001b[0mtabuCopy\u001b[0m\u001b[0;34m=\u001b[0m\u001b[0mtabuNow\u001b[0m\u001b[0;34m.\u001b[0m\u001b[0mcopy\u001b[0m\u001b[0;34m(\u001b[0m\u001b[0;34m)\u001b[0m\u001b[0;34m\u001b[0m\u001b[0;34m\u001b[0m\u001b[0m\n\u001b[1;32m     25\u001b[0m       \u001b[0mtabuCopy\u001b[0m\u001b[0;34m.\u001b[0m\u001b[0mappend\u001b[0m\u001b[0;34m(\u001b[0m\u001b[0mi\u001b[0m\u001b[0;34m)\u001b[0m\u001b[0;34m\u001b[0m\u001b[0;34m\u001b[0m\u001b[0m\n\u001b[0;32m---> 26\u001b[0;31m       \u001b[0mGross\u001b[0m\u001b[0;34m(\u001b[0m\u001b[0mtabuCopy\u001b[0m\u001b[0;34m,\u001b[0m\u001b[0mi\u001b[0m\u001b[0;34m)\u001b[0m\u001b[0;34m\u001b[0m\u001b[0;34m\u001b[0m\u001b[0m\n\u001b[0m",
            "\u001b[0;32m<ipython-input-11-ca10da09a4a9>\u001b[0m in \u001b[0;36mGross\u001b[0;34m(tabuNow, now)\u001b[0m\n\u001b[1;32m     24\u001b[0m       \u001b[0mtabuCopy\u001b[0m\u001b[0;34m=\u001b[0m\u001b[0mtabuNow\u001b[0m\u001b[0;34m.\u001b[0m\u001b[0mcopy\u001b[0m\u001b[0;34m(\u001b[0m\u001b[0;34m)\u001b[0m\u001b[0;34m\u001b[0m\u001b[0;34m\u001b[0m\u001b[0m\n\u001b[1;32m     25\u001b[0m       \u001b[0mtabuCopy\u001b[0m\u001b[0;34m.\u001b[0m\u001b[0mappend\u001b[0m\u001b[0;34m(\u001b[0m\u001b[0mi\u001b[0m\u001b[0;34m)\u001b[0m\u001b[0;34m\u001b[0m\u001b[0;34m\u001b[0m\u001b[0m\n\u001b[0;32m---> 26\u001b[0;31m       \u001b[0mGross\u001b[0m\u001b[0;34m(\u001b[0m\u001b[0mtabuCopy\u001b[0m\u001b[0;34m,\u001b[0m\u001b[0mi\u001b[0m\u001b[0;34m)\u001b[0m\u001b[0;34m\u001b[0m\u001b[0;34m\u001b[0m\u001b[0m\n\u001b[0m",
            "\u001b[0;32m<ipython-input-11-ca10da09a4a9>\u001b[0m in \u001b[0;36mGross\u001b[0;34m(tabuNow, now)\u001b[0m\n\u001b[1;32m     24\u001b[0m       \u001b[0mtabuCopy\u001b[0m\u001b[0;34m=\u001b[0m\u001b[0mtabuNow\u001b[0m\u001b[0;34m.\u001b[0m\u001b[0mcopy\u001b[0m\u001b[0;34m(\u001b[0m\u001b[0;34m)\u001b[0m\u001b[0;34m\u001b[0m\u001b[0;34m\u001b[0m\u001b[0m\n\u001b[1;32m     25\u001b[0m       \u001b[0mtabuCopy\u001b[0m\u001b[0;34m.\u001b[0m\u001b[0mappend\u001b[0m\u001b[0;34m(\u001b[0m\u001b[0mi\u001b[0m\u001b[0;34m)\u001b[0m\u001b[0;34m\u001b[0m\u001b[0;34m\u001b[0m\u001b[0m\n\u001b[0;32m---> 26\u001b[0;31m       \u001b[0mGross\u001b[0m\u001b[0;34m(\u001b[0m\u001b[0mtabuCopy\u001b[0m\u001b[0;34m,\u001b[0m\u001b[0mi\u001b[0m\u001b[0;34m)\u001b[0m\u001b[0;34m\u001b[0m\u001b[0;34m\u001b[0m\u001b[0m\n\u001b[0m",
            "\u001b[0;32m<ipython-input-11-ca10da09a4a9>\u001b[0m in \u001b[0;36mGross\u001b[0;34m(tabuNow, now)\u001b[0m\n\u001b[1;32m     24\u001b[0m       \u001b[0mtabuCopy\u001b[0m\u001b[0;34m=\u001b[0m\u001b[0mtabuNow\u001b[0m\u001b[0;34m.\u001b[0m\u001b[0mcopy\u001b[0m\u001b[0;34m(\u001b[0m\u001b[0;34m)\u001b[0m\u001b[0;34m\u001b[0m\u001b[0;34m\u001b[0m\u001b[0m\n\u001b[1;32m     25\u001b[0m       \u001b[0mtabuCopy\u001b[0m\u001b[0;34m.\u001b[0m\u001b[0mappend\u001b[0m\u001b[0;34m(\u001b[0m\u001b[0mi\u001b[0m\u001b[0;34m)\u001b[0m\u001b[0;34m\u001b[0m\u001b[0;34m\u001b[0m\u001b[0m\n\u001b[0;32m---> 26\u001b[0;31m       \u001b[0mGross\u001b[0m\u001b[0;34m(\u001b[0m\u001b[0mtabuCopy\u001b[0m\u001b[0;34m,\u001b[0m\u001b[0mi\u001b[0m\u001b[0;34m)\u001b[0m\u001b[0;34m\u001b[0m\u001b[0;34m\u001b[0m\u001b[0m\n\u001b[0m",
            "\u001b[0;32m<ipython-input-11-ca10da09a4a9>\u001b[0m in \u001b[0;36mGross\u001b[0;34m(tabuNow, now)\u001b[0m\n\u001b[1;32m     24\u001b[0m       \u001b[0mtabuCopy\u001b[0m\u001b[0;34m=\u001b[0m\u001b[0mtabuNow\u001b[0m\u001b[0;34m.\u001b[0m\u001b[0mcopy\u001b[0m\u001b[0;34m(\u001b[0m\u001b[0;34m)\u001b[0m\u001b[0;34m\u001b[0m\u001b[0;34m\u001b[0m\u001b[0m\n\u001b[1;32m     25\u001b[0m       \u001b[0mtabuCopy\u001b[0m\u001b[0;34m.\u001b[0m\u001b[0mappend\u001b[0m\u001b[0;34m(\u001b[0m\u001b[0mi\u001b[0m\u001b[0;34m)\u001b[0m\u001b[0;34m\u001b[0m\u001b[0;34m\u001b[0m\u001b[0m\n\u001b[0;32m---> 26\u001b[0;31m       \u001b[0mGross\u001b[0m\u001b[0;34m(\u001b[0m\u001b[0mtabuCopy\u001b[0m\u001b[0;34m,\u001b[0m\u001b[0mi\u001b[0m\u001b[0;34m)\u001b[0m\u001b[0;34m\u001b[0m\u001b[0;34m\u001b[0m\u001b[0m\n\u001b[0m",
            "\u001b[0;32m<ipython-input-11-ca10da09a4a9>\u001b[0m in \u001b[0;36mGross\u001b[0;34m(tabuNow, now)\u001b[0m\n\u001b[1;32m     24\u001b[0m       \u001b[0mtabuCopy\u001b[0m\u001b[0;34m=\u001b[0m\u001b[0mtabuNow\u001b[0m\u001b[0;34m.\u001b[0m\u001b[0mcopy\u001b[0m\u001b[0;34m(\u001b[0m\u001b[0;34m)\u001b[0m\u001b[0;34m\u001b[0m\u001b[0;34m\u001b[0m\u001b[0m\n\u001b[1;32m     25\u001b[0m       \u001b[0mtabuCopy\u001b[0m\u001b[0;34m.\u001b[0m\u001b[0mappend\u001b[0m\u001b[0;34m(\u001b[0m\u001b[0mi\u001b[0m\u001b[0;34m)\u001b[0m\u001b[0;34m\u001b[0m\u001b[0;34m\u001b[0m\u001b[0m\n\u001b[0;32m---> 26\u001b[0;31m       \u001b[0mGross\u001b[0m\u001b[0;34m(\u001b[0m\u001b[0mtabuCopy\u001b[0m\u001b[0;34m,\u001b[0m\u001b[0mi\u001b[0m\u001b[0;34m)\u001b[0m\u001b[0;34m\u001b[0m\u001b[0;34m\u001b[0m\u001b[0m\n\u001b[0m",
            "\u001b[0;32m<ipython-input-11-ca10da09a4a9>\u001b[0m in \u001b[0;36mGross\u001b[0;34m(tabuNow, now)\u001b[0m\n\u001b[1;32m     24\u001b[0m       \u001b[0mtabuCopy\u001b[0m\u001b[0;34m=\u001b[0m\u001b[0mtabuNow\u001b[0m\u001b[0;34m.\u001b[0m\u001b[0mcopy\u001b[0m\u001b[0;34m(\u001b[0m\u001b[0;34m)\u001b[0m\u001b[0;34m\u001b[0m\u001b[0;34m\u001b[0m\u001b[0m\n\u001b[1;32m     25\u001b[0m       \u001b[0mtabuCopy\u001b[0m\u001b[0;34m.\u001b[0m\u001b[0mappend\u001b[0m\u001b[0;34m(\u001b[0m\u001b[0mi\u001b[0m\u001b[0;34m)\u001b[0m\u001b[0;34m\u001b[0m\u001b[0;34m\u001b[0m\u001b[0m\n\u001b[0;32m---> 26\u001b[0;31m       \u001b[0mGross\u001b[0m\u001b[0;34m(\u001b[0m\u001b[0mtabuCopy\u001b[0m\u001b[0;34m,\u001b[0m\u001b[0mi\u001b[0m\u001b[0;34m)\u001b[0m\u001b[0;34m\u001b[0m\u001b[0;34m\u001b[0m\u001b[0m\n\u001b[0m",
            "\u001b[0;32m<ipython-input-11-ca10da09a4a9>\u001b[0m in \u001b[0;36mGross\u001b[0;34m(tabuNow, now)\u001b[0m\n\u001b[1;32m     24\u001b[0m       \u001b[0mtabuCopy\u001b[0m\u001b[0;34m=\u001b[0m\u001b[0mtabuNow\u001b[0m\u001b[0;34m.\u001b[0m\u001b[0mcopy\u001b[0m\u001b[0;34m(\u001b[0m\u001b[0;34m)\u001b[0m\u001b[0;34m\u001b[0m\u001b[0;34m\u001b[0m\u001b[0m\n\u001b[1;32m     25\u001b[0m       \u001b[0mtabuCopy\u001b[0m\u001b[0;34m.\u001b[0m\u001b[0mappend\u001b[0m\u001b[0;34m(\u001b[0m\u001b[0mi\u001b[0m\u001b[0;34m)\u001b[0m\u001b[0;34m\u001b[0m\u001b[0;34m\u001b[0m\u001b[0m\n\u001b[0;32m---> 26\u001b[0;31m       \u001b[0mGross\u001b[0m\u001b[0;34m(\u001b[0m\u001b[0mtabuCopy\u001b[0m\u001b[0;34m,\u001b[0m\u001b[0mi\u001b[0m\u001b[0;34m)\u001b[0m\u001b[0;34m\u001b[0m\u001b[0;34m\u001b[0m\u001b[0m\n\u001b[0m",
            "\u001b[0;32m<ipython-input-11-ca10da09a4a9>\u001b[0m in \u001b[0;36mGross\u001b[0;34m(tabuNow, now)\u001b[0m\n\u001b[1;32m     24\u001b[0m       \u001b[0mtabuCopy\u001b[0m\u001b[0;34m=\u001b[0m\u001b[0mtabuNow\u001b[0m\u001b[0;34m.\u001b[0m\u001b[0mcopy\u001b[0m\u001b[0;34m(\u001b[0m\u001b[0;34m)\u001b[0m\u001b[0;34m\u001b[0m\u001b[0;34m\u001b[0m\u001b[0m\n\u001b[1;32m     25\u001b[0m       \u001b[0mtabuCopy\u001b[0m\u001b[0;34m.\u001b[0m\u001b[0mappend\u001b[0m\u001b[0;34m(\u001b[0m\u001b[0mi\u001b[0m\u001b[0;34m)\u001b[0m\u001b[0;34m\u001b[0m\u001b[0;34m\u001b[0m\u001b[0m\n\u001b[0;32m---> 26\u001b[0;31m       \u001b[0mGross\u001b[0m\u001b[0;34m(\u001b[0m\u001b[0mtabuCopy\u001b[0m\u001b[0;34m,\u001b[0m\u001b[0mi\u001b[0m\u001b[0;34m)\u001b[0m\u001b[0;34m\u001b[0m\u001b[0;34m\u001b[0m\u001b[0m\n\u001b[0m",
            "\u001b[0;32m<ipython-input-11-ca10da09a4a9>\u001b[0m in \u001b[0;36mGross\u001b[0;34m(tabuNow, now)\u001b[0m\n\u001b[1;32m     24\u001b[0m       \u001b[0mtabuCopy\u001b[0m\u001b[0;34m=\u001b[0m\u001b[0mtabuNow\u001b[0m\u001b[0;34m.\u001b[0m\u001b[0mcopy\u001b[0m\u001b[0;34m(\u001b[0m\u001b[0;34m)\u001b[0m\u001b[0;34m\u001b[0m\u001b[0;34m\u001b[0m\u001b[0m\n\u001b[1;32m     25\u001b[0m       \u001b[0mtabuCopy\u001b[0m\u001b[0;34m.\u001b[0m\u001b[0mappend\u001b[0m\u001b[0;34m(\u001b[0m\u001b[0mi\u001b[0m\u001b[0;34m)\u001b[0m\u001b[0;34m\u001b[0m\u001b[0;34m\u001b[0m\u001b[0m\n\u001b[0;32m---> 26\u001b[0;31m       \u001b[0mGross\u001b[0m\u001b[0;34m(\u001b[0m\u001b[0mtabuCopy\u001b[0m\u001b[0;34m,\u001b[0m\u001b[0mi\u001b[0m\u001b[0;34m)\u001b[0m\u001b[0;34m\u001b[0m\u001b[0;34m\u001b[0m\u001b[0m\n\u001b[0m",
            "\u001b[0;32m<ipython-input-11-ca10da09a4a9>\u001b[0m in \u001b[0;36mGross\u001b[0;34m(tabuNow, now)\u001b[0m\n\u001b[1;32m     24\u001b[0m       \u001b[0mtabuCopy\u001b[0m\u001b[0;34m=\u001b[0m\u001b[0mtabuNow\u001b[0m\u001b[0;34m.\u001b[0m\u001b[0mcopy\u001b[0m\u001b[0;34m(\u001b[0m\u001b[0;34m)\u001b[0m\u001b[0;34m\u001b[0m\u001b[0;34m\u001b[0m\u001b[0m\n\u001b[1;32m     25\u001b[0m       \u001b[0mtabuCopy\u001b[0m\u001b[0;34m.\u001b[0m\u001b[0mappend\u001b[0m\u001b[0;34m(\u001b[0m\u001b[0mi\u001b[0m\u001b[0;34m)\u001b[0m\u001b[0;34m\u001b[0m\u001b[0;34m\u001b[0m\u001b[0m\n\u001b[0;32m---> 26\u001b[0;31m       \u001b[0mGross\u001b[0m\u001b[0;34m(\u001b[0m\u001b[0mtabuCopy\u001b[0m\u001b[0;34m,\u001b[0m\u001b[0mi\u001b[0m\u001b[0;34m)\u001b[0m\u001b[0;34m\u001b[0m\u001b[0;34m\u001b[0m\u001b[0m\n\u001b[0m",
            "\u001b[0;32m<ipython-input-11-ca10da09a4a9>\u001b[0m in \u001b[0;36mGross\u001b[0;34m(tabuNow, now)\u001b[0m\n\u001b[1;32m     24\u001b[0m       \u001b[0mtabuCopy\u001b[0m\u001b[0;34m=\u001b[0m\u001b[0mtabuNow\u001b[0m\u001b[0;34m.\u001b[0m\u001b[0mcopy\u001b[0m\u001b[0;34m(\u001b[0m\u001b[0;34m)\u001b[0m\u001b[0;34m\u001b[0m\u001b[0;34m\u001b[0m\u001b[0m\n\u001b[1;32m     25\u001b[0m       \u001b[0mtabuCopy\u001b[0m\u001b[0;34m.\u001b[0m\u001b[0mappend\u001b[0m\u001b[0;34m(\u001b[0m\u001b[0mi\u001b[0m\u001b[0;34m)\u001b[0m\u001b[0;34m\u001b[0m\u001b[0;34m\u001b[0m\u001b[0m\n\u001b[0;32m---> 26\u001b[0;31m       \u001b[0mGross\u001b[0m\u001b[0;34m(\u001b[0m\u001b[0mtabuCopy\u001b[0m\u001b[0;34m,\u001b[0m\u001b[0mi\u001b[0m\u001b[0;34m)\u001b[0m\u001b[0;34m\u001b[0m\u001b[0;34m\u001b[0m\u001b[0m\n\u001b[0m",
            "\u001b[0;32m<ipython-input-11-ca10da09a4a9>\u001b[0m in \u001b[0;36mGross\u001b[0;34m(tabuNow, now)\u001b[0m\n\u001b[1;32m     24\u001b[0m       \u001b[0mtabuCopy\u001b[0m\u001b[0;34m=\u001b[0m\u001b[0mtabuNow\u001b[0m\u001b[0;34m.\u001b[0m\u001b[0mcopy\u001b[0m\u001b[0;34m(\u001b[0m\u001b[0;34m)\u001b[0m\u001b[0;34m\u001b[0m\u001b[0;34m\u001b[0m\u001b[0m\n\u001b[1;32m     25\u001b[0m       \u001b[0mtabuCopy\u001b[0m\u001b[0;34m.\u001b[0m\u001b[0mappend\u001b[0m\u001b[0;34m(\u001b[0m\u001b[0mi\u001b[0m\u001b[0;34m)\u001b[0m\u001b[0;34m\u001b[0m\u001b[0;34m\u001b[0m\u001b[0m\n\u001b[0;32m---> 26\u001b[0;31m       \u001b[0mGross\u001b[0m\u001b[0;34m(\u001b[0m\u001b[0mtabuCopy\u001b[0m\u001b[0;34m,\u001b[0m\u001b[0mi\u001b[0m\u001b[0;34m)\u001b[0m\u001b[0;34m\u001b[0m\u001b[0;34m\u001b[0m\u001b[0m\n\u001b[0m",
            "\u001b[0;32m<ipython-input-11-ca10da09a4a9>\u001b[0m in \u001b[0;36mGross\u001b[0;34m(tabuNow, now)\u001b[0m\n\u001b[1;32m     24\u001b[0m       \u001b[0mtabuCopy\u001b[0m\u001b[0;34m=\u001b[0m\u001b[0mtabuNow\u001b[0m\u001b[0;34m.\u001b[0m\u001b[0mcopy\u001b[0m\u001b[0;34m(\u001b[0m\u001b[0;34m)\u001b[0m\u001b[0;34m\u001b[0m\u001b[0;34m\u001b[0m\u001b[0m\n\u001b[1;32m     25\u001b[0m       \u001b[0mtabuCopy\u001b[0m\u001b[0;34m.\u001b[0m\u001b[0mappend\u001b[0m\u001b[0;34m(\u001b[0m\u001b[0mi\u001b[0m\u001b[0;34m)\u001b[0m\u001b[0;34m\u001b[0m\u001b[0;34m\u001b[0m\u001b[0m\n\u001b[0;32m---> 26\u001b[0;31m       \u001b[0mGross\u001b[0m\u001b[0;34m(\u001b[0m\u001b[0mtabuCopy\u001b[0m\u001b[0;34m,\u001b[0m\u001b[0mi\u001b[0m\u001b[0;34m)\u001b[0m\u001b[0;34m\u001b[0m\u001b[0;34m\u001b[0m\u001b[0m\n\u001b[0m",
            "\u001b[0;32m<ipython-input-11-ca10da09a4a9>\u001b[0m in \u001b[0;36mGross\u001b[0;34m(tabuNow, now)\u001b[0m\n\u001b[1;32m     24\u001b[0m       \u001b[0mtabuCopy\u001b[0m\u001b[0;34m=\u001b[0m\u001b[0mtabuNow\u001b[0m\u001b[0;34m.\u001b[0m\u001b[0mcopy\u001b[0m\u001b[0;34m(\u001b[0m\u001b[0;34m)\u001b[0m\u001b[0;34m\u001b[0m\u001b[0;34m\u001b[0m\u001b[0m\n\u001b[1;32m     25\u001b[0m       \u001b[0mtabuCopy\u001b[0m\u001b[0;34m.\u001b[0m\u001b[0mappend\u001b[0m\u001b[0;34m(\u001b[0m\u001b[0mi\u001b[0m\u001b[0;34m)\u001b[0m\u001b[0;34m\u001b[0m\u001b[0;34m\u001b[0m\u001b[0m\n\u001b[0;32m---> 26\u001b[0;31m       \u001b[0mGross\u001b[0m\u001b[0;34m(\u001b[0m\u001b[0mtabuCopy\u001b[0m\u001b[0;34m,\u001b[0m\u001b[0mi\u001b[0m\u001b[0;34m)\u001b[0m\u001b[0;34m\u001b[0m\u001b[0;34m\u001b[0m\u001b[0m\n\u001b[0m",
            "\u001b[0;32m<ipython-input-11-ca10da09a4a9>\u001b[0m in \u001b[0;36mGross\u001b[0;34m(tabuNow, now)\u001b[0m\n\u001b[1;32m     24\u001b[0m       \u001b[0mtabuCopy\u001b[0m\u001b[0;34m=\u001b[0m\u001b[0mtabuNow\u001b[0m\u001b[0;34m.\u001b[0m\u001b[0mcopy\u001b[0m\u001b[0;34m(\u001b[0m\u001b[0;34m)\u001b[0m\u001b[0;34m\u001b[0m\u001b[0;34m\u001b[0m\u001b[0m\n\u001b[1;32m     25\u001b[0m       \u001b[0mtabuCopy\u001b[0m\u001b[0;34m.\u001b[0m\u001b[0mappend\u001b[0m\u001b[0;34m(\u001b[0m\u001b[0mi\u001b[0m\u001b[0;34m)\u001b[0m\u001b[0;34m\u001b[0m\u001b[0;34m\u001b[0m\u001b[0m\n\u001b[0;32m---> 26\u001b[0;31m       \u001b[0mGross\u001b[0m\u001b[0;34m(\u001b[0m\u001b[0mtabuCopy\u001b[0m\u001b[0;34m,\u001b[0m\u001b[0mi\u001b[0m\u001b[0;34m)\u001b[0m\u001b[0;34m\u001b[0m\u001b[0;34m\u001b[0m\u001b[0m\n\u001b[0m",
            "\u001b[0;32m<ipython-input-11-ca10da09a4a9>\u001b[0m in \u001b[0;36mGross\u001b[0;34m(tabuNow, now)\u001b[0m\n\u001b[1;32m     24\u001b[0m       \u001b[0mtabuCopy\u001b[0m\u001b[0;34m=\u001b[0m\u001b[0mtabuNow\u001b[0m\u001b[0;34m.\u001b[0m\u001b[0mcopy\u001b[0m\u001b[0;34m(\u001b[0m\u001b[0;34m)\u001b[0m\u001b[0;34m\u001b[0m\u001b[0;34m\u001b[0m\u001b[0m\n\u001b[1;32m     25\u001b[0m       \u001b[0mtabuCopy\u001b[0m\u001b[0;34m.\u001b[0m\u001b[0mappend\u001b[0m\u001b[0;34m(\u001b[0m\u001b[0mi\u001b[0m\u001b[0;34m)\u001b[0m\u001b[0;34m\u001b[0m\u001b[0;34m\u001b[0m\u001b[0m\n\u001b[0;32m---> 26\u001b[0;31m       \u001b[0mGross\u001b[0m\u001b[0;34m(\u001b[0m\u001b[0mtabuCopy\u001b[0m\u001b[0;34m,\u001b[0m\u001b[0mi\u001b[0m\u001b[0;34m)\u001b[0m\u001b[0;34m\u001b[0m\u001b[0;34m\u001b[0m\u001b[0m\n\u001b[0m",
            "\u001b[0;32m<ipython-input-11-ca10da09a4a9>\u001b[0m in \u001b[0;36mGross\u001b[0;34m(tabuNow, now)\u001b[0m\n\u001b[1;32m     24\u001b[0m       \u001b[0mtabuCopy\u001b[0m\u001b[0;34m=\u001b[0m\u001b[0mtabuNow\u001b[0m\u001b[0;34m.\u001b[0m\u001b[0mcopy\u001b[0m\u001b[0;34m(\u001b[0m\u001b[0;34m)\u001b[0m\u001b[0;34m\u001b[0m\u001b[0;34m\u001b[0m\u001b[0m\n\u001b[1;32m     25\u001b[0m       \u001b[0mtabuCopy\u001b[0m\u001b[0;34m.\u001b[0m\u001b[0mappend\u001b[0m\u001b[0;34m(\u001b[0m\u001b[0mi\u001b[0m\u001b[0;34m)\u001b[0m\u001b[0;34m\u001b[0m\u001b[0;34m\u001b[0m\u001b[0m\n\u001b[0;32m---> 26\u001b[0;31m       \u001b[0mGross\u001b[0m\u001b[0;34m(\u001b[0m\u001b[0mtabuCopy\u001b[0m\u001b[0;34m,\u001b[0m\u001b[0mi\u001b[0m\u001b[0;34m)\u001b[0m\u001b[0;34m\u001b[0m\u001b[0;34m\u001b[0m\u001b[0m\n\u001b[0m",
            "\u001b[0;32m<ipython-input-11-ca10da09a4a9>\u001b[0m in \u001b[0;36mGross\u001b[0;34m(tabuNow, now)\u001b[0m\n\u001b[1;32m     24\u001b[0m       \u001b[0mtabuCopy\u001b[0m\u001b[0;34m=\u001b[0m\u001b[0mtabuNow\u001b[0m\u001b[0;34m.\u001b[0m\u001b[0mcopy\u001b[0m\u001b[0;34m(\u001b[0m\u001b[0;34m)\u001b[0m\u001b[0;34m\u001b[0m\u001b[0;34m\u001b[0m\u001b[0m\n\u001b[1;32m     25\u001b[0m       \u001b[0mtabuCopy\u001b[0m\u001b[0;34m.\u001b[0m\u001b[0mappend\u001b[0m\u001b[0;34m(\u001b[0m\u001b[0mi\u001b[0m\u001b[0;34m)\u001b[0m\u001b[0;34m\u001b[0m\u001b[0;34m\u001b[0m\u001b[0m\n\u001b[0;32m---> 26\u001b[0;31m       \u001b[0mGross\u001b[0m\u001b[0;34m(\u001b[0m\u001b[0mtabuCopy\u001b[0m\u001b[0;34m,\u001b[0m\u001b[0mi\u001b[0m\u001b[0;34m)\u001b[0m\u001b[0;34m\u001b[0m\u001b[0;34m\u001b[0m\u001b[0m\n\u001b[0m",
            "\u001b[0;32m<ipython-input-11-ca10da09a4a9>\u001b[0m in \u001b[0;36mGross\u001b[0;34m(tabuNow, now)\u001b[0m\n\u001b[1;32m     24\u001b[0m       \u001b[0mtabuCopy\u001b[0m\u001b[0;34m=\u001b[0m\u001b[0mtabuNow\u001b[0m\u001b[0;34m.\u001b[0m\u001b[0mcopy\u001b[0m\u001b[0;34m(\u001b[0m\u001b[0;34m)\u001b[0m\u001b[0;34m\u001b[0m\u001b[0;34m\u001b[0m\u001b[0m\n\u001b[1;32m     25\u001b[0m       \u001b[0mtabuCopy\u001b[0m\u001b[0;34m.\u001b[0m\u001b[0mappend\u001b[0m\u001b[0;34m(\u001b[0m\u001b[0mi\u001b[0m\u001b[0;34m)\u001b[0m\u001b[0;34m\u001b[0m\u001b[0;34m\u001b[0m\u001b[0m\n\u001b[0;32m---> 26\u001b[0;31m       \u001b[0mGross\u001b[0m\u001b[0;34m(\u001b[0m\u001b[0mtabuCopy\u001b[0m\u001b[0;34m,\u001b[0m\u001b[0mi\u001b[0m\u001b[0;34m)\u001b[0m\u001b[0;34m\u001b[0m\u001b[0;34m\u001b[0m\u001b[0m\n\u001b[0m",
            "\u001b[0;32m<ipython-input-11-ca10da09a4a9>\u001b[0m in \u001b[0;36mGross\u001b[0;34m(tabuNow, now)\u001b[0m\n\u001b[1;32m     24\u001b[0m       \u001b[0mtabuCopy\u001b[0m\u001b[0;34m=\u001b[0m\u001b[0mtabuNow\u001b[0m\u001b[0;34m.\u001b[0m\u001b[0mcopy\u001b[0m\u001b[0;34m(\u001b[0m\u001b[0;34m)\u001b[0m\u001b[0;34m\u001b[0m\u001b[0;34m\u001b[0m\u001b[0m\n\u001b[1;32m     25\u001b[0m       \u001b[0mtabuCopy\u001b[0m\u001b[0;34m.\u001b[0m\u001b[0mappend\u001b[0m\u001b[0;34m(\u001b[0m\u001b[0mi\u001b[0m\u001b[0;34m)\u001b[0m\u001b[0;34m\u001b[0m\u001b[0;34m\u001b[0m\u001b[0m\n\u001b[0;32m---> 26\u001b[0;31m       \u001b[0mGross\u001b[0m\u001b[0;34m(\u001b[0m\u001b[0mtabuCopy\u001b[0m\u001b[0;34m,\u001b[0m\u001b[0mi\u001b[0m\u001b[0;34m)\u001b[0m\u001b[0;34m\u001b[0m\u001b[0;34m\u001b[0m\u001b[0m\n\u001b[0m",
            "\u001b[0;32m<ipython-input-11-ca10da09a4a9>\u001b[0m in \u001b[0;36mGross\u001b[0;34m(tabuNow, now)\u001b[0m\n\u001b[1;32m     24\u001b[0m       \u001b[0mtabuCopy\u001b[0m\u001b[0;34m=\u001b[0m\u001b[0mtabuNow\u001b[0m\u001b[0;34m.\u001b[0m\u001b[0mcopy\u001b[0m\u001b[0;34m(\u001b[0m\u001b[0;34m)\u001b[0m\u001b[0;34m\u001b[0m\u001b[0;34m\u001b[0m\u001b[0m\n\u001b[1;32m     25\u001b[0m       \u001b[0mtabuCopy\u001b[0m\u001b[0;34m.\u001b[0m\u001b[0mappend\u001b[0m\u001b[0;34m(\u001b[0m\u001b[0mi\u001b[0m\u001b[0;34m)\u001b[0m\u001b[0;34m\u001b[0m\u001b[0;34m\u001b[0m\u001b[0m\n\u001b[0;32m---> 26\u001b[0;31m       \u001b[0mGross\u001b[0m\u001b[0;34m(\u001b[0m\u001b[0mtabuCopy\u001b[0m\u001b[0;34m,\u001b[0m\u001b[0mi\u001b[0m\u001b[0;34m)\u001b[0m\u001b[0;34m\u001b[0m\u001b[0;34m\u001b[0m\u001b[0m\n\u001b[0m",
            "\u001b[0;32m<ipython-input-11-ca10da09a4a9>\u001b[0m in \u001b[0;36mGross\u001b[0;34m(tabuNow, now)\u001b[0m\n\u001b[1;32m     24\u001b[0m       \u001b[0mtabuCopy\u001b[0m\u001b[0;34m=\u001b[0m\u001b[0mtabuNow\u001b[0m\u001b[0;34m.\u001b[0m\u001b[0mcopy\u001b[0m\u001b[0;34m(\u001b[0m\u001b[0;34m)\u001b[0m\u001b[0;34m\u001b[0m\u001b[0;34m\u001b[0m\u001b[0m\n\u001b[1;32m     25\u001b[0m       \u001b[0mtabuCopy\u001b[0m\u001b[0;34m.\u001b[0m\u001b[0mappend\u001b[0m\u001b[0;34m(\u001b[0m\u001b[0mi\u001b[0m\u001b[0;34m)\u001b[0m\u001b[0;34m\u001b[0m\u001b[0;34m\u001b[0m\u001b[0m\n\u001b[0;32m---> 26\u001b[0;31m       \u001b[0mGross\u001b[0m\u001b[0;34m(\u001b[0m\u001b[0mtabuCopy\u001b[0m\u001b[0;34m,\u001b[0m\u001b[0mi\u001b[0m\u001b[0;34m)\u001b[0m\u001b[0;34m\u001b[0m\u001b[0;34m\u001b[0m\u001b[0m\n\u001b[0m",
            "\u001b[0;32m<ipython-input-11-ca10da09a4a9>\u001b[0m in \u001b[0;36mGross\u001b[0;34m(tabuNow, now)\u001b[0m\n\u001b[1;32m     24\u001b[0m       \u001b[0mtabuCopy\u001b[0m\u001b[0;34m=\u001b[0m\u001b[0mtabuNow\u001b[0m\u001b[0;34m.\u001b[0m\u001b[0mcopy\u001b[0m\u001b[0;34m(\u001b[0m\u001b[0;34m)\u001b[0m\u001b[0;34m\u001b[0m\u001b[0;34m\u001b[0m\u001b[0m\n\u001b[1;32m     25\u001b[0m       \u001b[0mtabuCopy\u001b[0m\u001b[0;34m.\u001b[0m\u001b[0mappend\u001b[0m\u001b[0;34m(\u001b[0m\u001b[0mi\u001b[0m\u001b[0;34m)\u001b[0m\u001b[0;34m\u001b[0m\u001b[0;34m\u001b[0m\u001b[0m\n\u001b[0;32m---> 26\u001b[0;31m       \u001b[0mGross\u001b[0m\u001b[0;34m(\u001b[0m\u001b[0mtabuCopy\u001b[0m\u001b[0;34m,\u001b[0m\u001b[0mi\u001b[0m\u001b[0;34m)\u001b[0m\u001b[0;34m\u001b[0m\u001b[0;34m\u001b[0m\u001b[0m\n\u001b[0m",
            "\u001b[0;32m<ipython-input-11-ca10da09a4a9>\u001b[0m in \u001b[0;36mGross\u001b[0;34m(tabuNow, now)\u001b[0m\n\u001b[1;32m     24\u001b[0m       \u001b[0mtabuCopy\u001b[0m\u001b[0;34m=\u001b[0m\u001b[0mtabuNow\u001b[0m\u001b[0;34m.\u001b[0m\u001b[0mcopy\u001b[0m\u001b[0;34m(\u001b[0m\u001b[0;34m)\u001b[0m\u001b[0;34m\u001b[0m\u001b[0;34m\u001b[0m\u001b[0m\n\u001b[1;32m     25\u001b[0m       \u001b[0mtabuCopy\u001b[0m\u001b[0;34m.\u001b[0m\u001b[0mappend\u001b[0m\u001b[0;34m(\u001b[0m\u001b[0mi\u001b[0m\u001b[0;34m)\u001b[0m\u001b[0;34m\u001b[0m\u001b[0;34m\u001b[0m\u001b[0m\n\u001b[0;32m---> 26\u001b[0;31m       \u001b[0mGross\u001b[0m\u001b[0;34m(\u001b[0m\u001b[0mtabuCopy\u001b[0m\u001b[0;34m,\u001b[0m\u001b[0mi\u001b[0m\u001b[0;34m)\u001b[0m\u001b[0;34m\u001b[0m\u001b[0;34m\u001b[0m\u001b[0m\n\u001b[0m",
            "\u001b[0;32m<ipython-input-11-ca10da09a4a9>\u001b[0m in \u001b[0;36mGross\u001b[0;34m(tabuNow, now)\u001b[0m\n\u001b[1;32m     24\u001b[0m       \u001b[0mtabuCopy\u001b[0m\u001b[0;34m=\u001b[0m\u001b[0mtabuNow\u001b[0m\u001b[0;34m.\u001b[0m\u001b[0mcopy\u001b[0m\u001b[0;34m(\u001b[0m\u001b[0;34m)\u001b[0m\u001b[0;34m\u001b[0m\u001b[0;34m\u001b[0m\u001b[0m\n\u001b[1;32m     25\u001b[0m       \u001b[0mtabuCopy\u001b[0m\u001b[0;34m.\u001b[0m\u001b[0mappend\u001b[0m\u001b[0;34m(\u001b[0m\u001b[0mi\u001b[0m\u001b[0;34m)\u001b[0m\u001b[0;34m\u001b[0m\u001b[0;34m\u001b[0m\u001b[0m\n\u001b[0;32m---> 26\u001b[0;31m       \u001b[0mGross\u001b[0m\u001b[0;34m(\u001b[0m\u001b[0mtabuCopy\u001b[0m\u001b[0;34m,\u001b[0m\u001b[0mi\u001b[0m\u001b[0;34m)\u001b[0m\u001b[0;34m\u001b[0m\u001b[0;34m\u001b[0m\u001b[0m\n\u001b[0m",
            "\u001b[0;32m<ipython-input-11-ca10da09a4a9>\u001b[0m in \u001b[0;36mGross\u001b[0;34m(tabuNow, now)\u001b[0m\n\u001b[1;32m     24\u001b[0m       \u001b[0mtabuCopy\u001b[0m\u001b[0;34m=\u001b[0m\u001b[0mtabuNow\u001b[0m\u001b[0;34m.\u001b[0m\u001b[0mcopy\u001b[0m\u001b[0;34m(\u001b[0m\u001b[0;34m)\u001b[0m\u001b[0;34m\u001b[0m\u001b[0;34m\u001b[0m\u001b[0m\n\u001b[1;32m     25\u001b[0m       \u001b[0mtabuCopy\u001b[0m\u001b[0;34m.\u001b[0m\u001b[0mappend\u001b[0m\u001b[0;34m(\u001b[0m\u001b[0mi\u001b[0m\u001b[0;34m)\u001b[0m\u001b[0;34m\u001b[0m\u001b[0;34m\u001b[0m\u001b[0m\n\u001b[0;32m---> 26\u001b[0;31m       \u001b[0mGross\u001b[0m\u001b[0;34m(\u001b[0m\u001b[0mtabuCopy\u001b[0m\u001b[0;34m,\u001b[0m\u001b[0mi\u001b[0m\u001b[0;34m)\u001b[0m\u001b[0;34m\u001b[0m\u001b[0;34m\u001b[0m\u001b[0m\n\u001b[0m",
            "\u001b[0;32m<ipython-input-11-ca10da09a4a9>\u001b[0m in \u001b[0;36mGross\u001b[0;34m(tabuNow, now)\u001b[0m\n\u001b[1;32m     24\u001b[0m       \u001b[0mtabuCopy\u001b[0m\u001b[0;34m=\u001b[0m\u001b[0mtabuNow\u001b[0m\u001b[0;34m.\u001b[0m\u001b[0mcopy\u001b[0m\u001b[0;34m(\u001b[0m\u001b[0;34m)\u001b[0m\u001b[0;34m\u001b[0m\u001b[0;34m\u001b[0m\u001b[0m\n\u001b[1;32m     25\u001b[0m       \u001b[0mtabuCopy\u001b[0m\u001b[0;34m.\u001b[0m\u001b[0mappend\u001b[0m\u001b[0;34m(\u001b[0m\u001b[0mi\u001b[0m\u001b[0;34m)\u001b[0m\u001b[0;34m\u001b[0m\u001b[0;34m\u001b[0m\u001b[0m\n\u001b[0;32m---> 26\u001b[0;31m       \u001b[0mGross\u001b[0m\u001b[0;34m(\u001b[0m\u001b[0mtabuCopy\u001b[0m\u001b[0;34m,\u001b[0m\u001b[0mi\u001b[0m\u001b[0;34m)\u001b[0m\u001b[0;34m\u001b[0m\u001b[0;34m\u001b[0m\u001b[0m\n\u001b[0m",
            "\u001b[0;32m<ipython-input-11-ca10da09a4a9>\u001b[0m in \u001b[0;36mGross\u001b[0;34m(tabuNow, now)\u001b[0m\n\u001b[1;32m     24\u001b[0m       \u001b[0mtabuCopy\u001b[0m\u001b[0;34m=\u001b[0m\u001b[0mtabuNow\u001b[0m\u001b[0;34m.\u001b[0m\u001b[0mcopy\u001b[0m\u001b[0;34m(\u001b[0m\u001b[0;34m)\u001b[0m\u001b[0;34m\u001b[0m\u001b[0;34m\u001b[0m\u001b[0m\n\u001b[1;32m     25\u001b[0m       \u001b[0mtabuCopy\u001b[0m\u001b[0;34m.\u001b[0m\u001b[0mappend\u001b[0m\u001b[0;34m(\u001b[0m\u001b[0mi\u001b[0m\u001b[0;34m)\u001b[0m\u001b[0;34m\u001b[0m\u001b[0;34m\u001b[0m\u001b[0m\n\u001b[0;32m---> 26\u001b[0;31m       \u001b[0mGross\u001b[0m\u001b[0;34m(\u001b[0m\u001b[0mtabuCopy\u001b[0m\u001b[0;34m,\u001b[0m\u001b[0mi\u001b[0m\u001b[0;34m)\u001b[0m\u001b[0;34m\u001b[0m\u001b[0;34m\u001b[0m\u001b[0m\n\u001b[0m",
            "\u001b[0;32m<ipython-input-11-ca10da09a4a9>\u001b[0m in \u001b[0;36mGross\u001b[0;34m(tabuNow, now)\u001b[0m\n\u001b[1;32m     24\u001b[0m       \u001b[0mtabuCopy\u001b[0m\u001b[0;34m=\u001b[0m\u001b[0mtabuNow\u001b[0m\u001b[0;34m.\u001b[0m\u001b[0mcopy\u001b[0m\u001b[0;34m(\u001b[0m\u001b[0;34m)\u001b[0m\u001b[0;34m\u001b[0m\u001b[0;34m\u001b[0m\u001b[0m\n\u001b[1;32m     25\u001b[0m       \u001b[0mtabuCopy\u001b[0m\u001b[0;34m.\u001b[0m\u001b[0mappend\u001b[0m\u001b[0;34m(\u001b[0m\u001b[0mi\u001b[0m\u001b[0;34m)\u001b[0m\u001b[0;34m\u001b[0m\u001b[0;34m\u001b[0m\u001b[0m\n\u001b[0;32m---> 26\u001b[0;31m       \u001b[0mGross\u001b[0m\u001b[0;34m(\u001b[0m\u001b[0mtabuCopy\u001b[0m\u001b[0;34m,\u001b[0m\u001b[0mi\u001b[0m\u001b[0;34m)\u001b[0m\u001b[0;34m\u001b[0m\u001b[0;34m\u001b[0m\u001b[0m\n\u001b[0m",
            "\u001b[0;32m<ipython-input-11-ca10da09a4a9>\u001b[0m in \u001b[0;36mGross\u001b[0;34m(tabuNow, now)\u001b[0m\n\u001b[1;32m     24\u001b[0m       \u001b[0mtabuCopy\u001b[0m\u001b[0;34m=\u001b[0m\u001b[0mtabuNow\u001b[0m\u001b[0;34m.\u001b[0m\u001b[0mcopy\u001b[0m\u001b[0;34m(\u001b[0m\u001b[0;34m)\u001b[0m\u001b[0;34m\u001b[0m\u001b[0;34m\u001b[0m\u001b[0m\n\u001b[1;32m     25\u001b[0m       \u001b[0mtabuCopy\u001b[0m\u001b[0;34m.\u001b[0m\u001b[0mappend\u001b[0m\u001b[0;34m(\u001b[0m\u001b[0mi\u001b[0m\u001b[0;34m)\u001b[0m\u001b[0;34m\u001b[0m\u001b[0;34m\u001b[0m\u001b[0m\n\u001b[0;32m---> 26\u001b[0;31m       \u001b[0mGross\u001b[0m\u001b[0;34m(\u001b[0m\u001b[0mtabuCopy\u001b[0m\u001b[0;34m,\u001b[0m\u001b[0mi\u001b[0m\u001b[0;34m)\u001b[0m\u001b[0;34m\u001b[0m\u001b[0;34m\u001b[0m\u001b[0m\n\u001b[0m",
            "\u001b[0;32m<ipython-input-11-ca10da09a4a9>\u001b[0m in \u001b[0;36mGross\u001b[0;34m(tabuNow, now)\u001b[0m\n\u001b[1;32m     24\u001b[0m       \u001b[0mtabuCopy\u001b[0m\u001b[0;34m=\u001b[0m\u001b[0mtabuNow\u001b[0m\u001b[0;34m.\u001b[0m\u001b[0mcopy\u001b[0m\u001b[0;34m(\u001b[0m\u001b[0;34m)\u001b[0m\u001b[0;34m\u001b[0m\u001b[0;34m\u001b[0m\u001b[0m\n\u001b[1;32m     25\u001b[0m       \u001b[0mtabuCopy\u001b[0m\u001b[0;34m.\u001b[0m\u001b[0mappend\u001b[0m\u001b[0;34m(\u001b[0m\u001b[0mi\u001b[0m\u001b[0;34m)\u001b[0m\u001b[0;34m\u001b[0m\u001b[0;34m\u001b[0m\u001b[0m\n\u001b[0;32m---> 26\u001b[0;31m       \u001b[0mGross\u001b[0m\u001b[0;34m(\u001b[0m\u001b[0mtabuCopy\u001b[0m\u001b[0;34m,\u001b[0m\u001b[0mi\u001b[0m\u001b[0;34m)\u001b[0m\u001b[0;34m\u001b[0m\u001b[0;34m\u001b[0m\u001b[0m\n\u001b[0m",
            "\u001b[0;32m<ipython-input-11-ca10da09a4a9>\u001b[0m in \u001b[0;36mGross\u001b[0;34m(tabuNow, now)\u001b[0m\n\u001b[1;32m     24\u001b[0m       \u001b[0mtabuCopy\u001b[0m\u001b[0;34m=\u001b[0m\u001b[0mtabuNow\u001b[0m\u001b[0;34m.\u001b[0m\u001b[0mcopy\u001b[0m\u001b[0;34m(\u001b[0m\u001b[0;34m)\u001b[0m\u001b[0;34m\u001b[0m\u001b[0;34m\u001b[0m\u001b[0m\n\u001b[1;32m     25\u001b[0m       \u001b[0mtabuCopy\u001b[0m\u001b[0;34m.\u001b[0m\u001b[0mappend\u001b[0m\u001b[0;34m(\u001b[0m\u001b[0mi\u001b[0m\u001b[0;34m)\u001b[0m\u001b[0;34m\u001b[0m\u001b[0;34m\u001b[0m\u001b[0m\n\u001b[0;32m---> 26\u001b[0;31m       \u001b[0mGross\u001b[0m\u001b[0;34m(\u001b[0m\u001b[0mtabuCopy\u001b[0m\u001b[0;34m,\u001b[0m\u001b[0mi\u001b[0m\u001b[0;34m)\u001b[0m\u001b[0;34m\u001b[0m\u001b[0;34m\u001b[0m\u001b[0m\n\u001b[0m",
            "\u001b[0;32m<ipython-input-11-ca10da09a4a9>\u001b[0m in \u001b[0;36mGross\u001b[0;34m(tabuNow, now)\u001b[0m\n\u001b[1;32m     24\u001b[0m       \u001b[0mtabuCopy\u001b[0m\u001b[0;34m=\u001b[0m\u001b[0mtabuNow\u001b[0m\u001b[0;34m.\u001b[0m\u001b[0mcopy\u001b[0m\u001b[0;34m(\u001b[0m\u001b[0;34m)\u001b[0m\u001b[0;34m\u001b[0m\u001b[0;34m\u001b[0m\u001b[0m\n\u001b[1;32m     25\u001b[0m       \u001b[0mtabuCopy\u001b[0m\u001b[0;34m.\u001b[0m\u001b[0mappend\u001b[0m\u001b[0;34m(\u001b[0m\u001b[0mi\u001b[0m\u001b[0;34m)\u001b[0m\u001b[0;34m\u001b[0m\u001b[0;34m\u001b[0m\u001b[0m\n\u001b[0;32m---> 26\u001b[0;31m       \u001b[0mGross\u001b[0m\u001b[0;34m(\u001b[0m\u001b[0mtabuCopy\u001b[0m\u001b[0;34m,\u001b[0m\u001b[0mi\u001b[0m\u001b[0;34m)\u001b[0m\u001b[0;34m\u001b[0m\u001b[0;34m\u001b[0m\u001b[0m\n\u001b[0m",
            "\u001b[0;32m<ipython-input-11-ca10da09a4a9>\u001b[0m in \u001b[0;36mGross\u001b[0;34m(tabuNow, now)\u001b[0m\n\u001b[1;32m     19\u001b[0m       \u001b[0mflag\u001b[0m\u001b[0;34m=\u001b[0m\u001b[0;36m1\u001b[0m\u001b[0;34m\u001b[0m\u001b[0;34m\u001b[0m\u001b[0m\n\u001b[1;32m     20\u001b[0m     \u001b[0;32mfor\u001b[0m \u001b[0mj\u001b[0m \u001b[0;32min\u001b[0m \u001b[0mrange\u001b[0m\u001b[0;34m(\u001b[0m\u001b[0mlen\u001b[0m\u001b[0;34m(\u001b[0m\u001b[0mtabuNow\u001b[0m\u001b[0;34m)\u001b[0m\u001b[0;34m)\u001b[0m\u001b[0;34m:\u001b[0m\u001b[0;34m\u001b[0m\u001b[0;34m\u001b[0m\u001b[0m\n\u001b[0;32m---> 21\u001b[0;31m       \u001b[0;32mif\u001b[0m \u001b[0;34m(\u001b[0m\u001b[0mi\u001b[0m\u001b[0;34m==\u001b[0m\u001b[0mtabuNow\u001b[0m\u001b[0;34m[\u001b[0m\u001b[0mj\u001b[0m\u001b[0;34m]\u001b[0m\u001b[0;34m)\u001b[0m\u001b[0;34m:\u001b[0m\u001b[0;34m\u001b[0m\u001b[0;34m\u001b[0m\u001b[0m\n\u001b[0m\u001b[1;32m     22\u001b[0m         \u001b[0mflag\u001b[0m\u001b[0;34m=\u001b[0m\u001b[0;36m1\u001b[0m\u001b[0;34m\u001b[0m\u001b[0;34m\u001b[0m\u001b[0m\n\u001b[1;32m     23\u001b[0m     \u001b[0;32mif\u001b[0m\u001b[0;34m(\u001b[0m\u001b[0mflag\u001b[0m\u001b[0;34m==\u001b[0m\u001b[0;36m0\u001b[0m\u001b[0;34m)\u001b[0m\u001b[0;34m:\u001b[0m\u001b[0;34m\u001b[0m\u001b[0;34m\u001b[0m\u001b[0m\n",
            "\u001b[0;31mKeyboardInterrupt\u001b[0m: "
          ]
        }
      ]
    },
    {
      "cell_type": "code",
      "metadata": {
        "id": "2qawLQu5jx4C",
        "colab": {
          "base_uri": "https://localhost:8080/"
        },
        "outputId": "1d02ae14-92fd-4ded-f985-94c790a22c70"
      },
      "source": [
        "#Генетический алгоритм\n",
        "nGen=50 #Кол-во особей в поколении\n",
        "Epoch=1000 #Кол-во поколений\n",
        "RealStartTime = time.time()\n",
        "nowgen=[]\n",
        "nowgenlen=[]\n",
        "GenLen=[]\n",
        "GenTime=[]\n",
        "for i in range (nGen):\n",
        "  nowroute=RandGen()\n",
        "  nowgen.append(nowroute)\n",
        "  nowgenlen.append(Length(nowroute))\n",
        "top1,top2=Find2Best(nowgenlen)\n",
        "\n",
        "for step in range(Epoch):\n",
        "\n",
        "  Leader=Selection(nowgen[top1],nowgen[top2])\n",
        "\n",
        "  for i in range(nGen-1):\n",
        "    mark=random.randint(1,3)\n",
        "    if(mark==1):\n",
        "      nowgen[i]=Mutation1(Leader)\n",
        "    elif(mark==2):\n",
        "      nowgen[i]=Mutation2(Leader)\n",
        "    else:\n",
        "      nowgen[i]=Mutation3(Leader)\n",
        "    nowgenlen[i]=Length(nowgen[i])\n",
        "  nowgen[nGen-1]=Leader\n",
        "  nowgenlen[nGen-1]=Length(Leader)\n",
        "  top1,top2=Find2Best(nowgenlen)\n",
        "  if(len(GenLen)==0):\n",
        "    GenLen.append(nowgenlen[top1])\n",
        "    RealNowTime = time.time()\n",
        "    GenTime.append(RealNowTime-RealStartTime)\n",
        "  elif(GenLen[len(GenLen)-1]>nowgenlen[top1]):\n",
        "    GenLen.append(nowgenlen[top1])\n",
        "    RealNowTime = time.time()\n",
        "    GenTime.append(RealNowTime-RealStartTime)\n",
        "print(GenLen[len(GenLen)-1])\n",
        "print(GenTime[len(GenTime)-1])"
      ],
      "execution_count": null,
      "outputs": [
        {
          "output_type": "stream",
          "name": "stdout",
          "text": [
            "2526.421302129419\n",
            "1.8947572708129883\n"
          ]
        }
      ]
    },
    {
      "cell_type": "code",
      "metadata": {
        "id": "OboSCm7CvzsX"
      },
      "source": [
        "#ACO. Cохранение истории нахождения оптимального маршрута в Excel.\n",
        "wb = openpyxl.Workbook()\n",
        "wb.create_sheet(title = 'History', index = 0)\n",
        "sheet = wb['History']\n",
        "\n",
        "for i in range (len(BestList)):\n",
        "  for j in range (len(BestList[i])):\n",
        "    for k in range (len(BestList[i][j])):\n",
        "      NowColumn=i*len(BestList[i])*len(BestList[i][j])*5+j*len(BestList[i][j])*5+k*5+1\n",
        "      NowCell = sheet.cell(row = 1, column = NowColumn)\n",
        "      NowCell.value = Par1Name+str(Par1Mas[i])\n",
        "      NowCell = sheet.cell(row = 2, column = NowColumn)\n",
        "      NowCell.value = Par2Name+str(Par2Mas[j])\n",
        "      NowCell = sheet.cell(row = 3, column = NowColumn)\n",
        "      NowCell.value = Par3Name+str(Par3Mas[k])\n",
        "      NowCell = sheet.cell(row = 4, column = NowColumn)\n",
        "      b1=round(BestList[i][j][k][MedianList[i][j][k]][len(BestList[i][j][k][MedianList[i][j][k]])-1],1)\n",
        "      NowCell.value = \"Best=\"+str(b1)\n",
        "      \n",
        "      NowColumn=i*len(BestList[i])*len(BestList[i][j])*5+j*len(BestList[i][j])*5+k*5+2\n",
        "      NowCell = sheet.cell(row = 1, column = NowColumn)\n",
        "      NowCell.value = \"Best\"\n",
        "      \n",
        "      for Sch1 in range (len(BestList[i][j][k][MedianList[i][j][k]])):\n",
        "        NowCell = sheet.cell(row = Sch1+2, column = NowColumn)\n",
        "        NowCell.value =round(BestList[i][j][k][MedianList[i][j][k]][Sch1],1)\n",
        "\n",
        "      NowColumn=i*len(BestList[i])*len(BestList[i][j])*5+j*len(BestList[i][j])*5+k*5+3\n",
        "      NowCell = sheet.cell(row = 1, column = NowColumn)\n",
        "      NowCell.value = \"Step\"\n",
        "      for Sch1 in range (len(StepList[i][j][k][MedianList[i][j][k]])):\n",
        "        NowCell = sheet.cell(row = Sch1+2, column = NowColumn)\n",
        "        NowCell.value =round(StepList[i][j][k][MedianList[i][j][k]][Sch1])\n",
        "\n",
        "      NowColumn=i*len(BestList[i])*len(BestList[i][j])*5+j*len(BestList[i][j])*5+k*5+4\n",
        "      NowCell = sheet.cell(row = 1, column = NowColumn)\n",
        "      NowCell.value = \"Time\"\n",
        "      for Sch1 in range (len(TimerList[i][j][k][MedianList[i][j][k]])):\n",
        "        NowCell = sheet.cell(row = Sch1+2, column = NowColumn)\n",
        "        NowCell.value =round(TimerList[i][j][k][MedianList[i][j][k]][Sch1],4)\n",
        "\n",
        "wb.save('AntHistory.xlsx')"
      ],
      "execution_count": null,
      "outputs": []
    },
    {
      "cell_type": "code",
      "metadata": {
        "id": "pZ_BktV3e6ua"
      },
      "source": [
        "#ACO. Cохранение средних длин найденных оптимальных маршрутов.\n",
        "wb = openpyxl.Workbook()\n",
        "wb.create_sheet(title = 'TimeBest', index = 0)\n",
        "sheet2 = wb['TimeBest']\n",
        "wb.create_sheet(title = 'Best', index = 0)\n",
        "sheet = wb['Best']\n",
        "\n",
        "for i in range (Rng2max):\n",
        "  NowColumn=i*(Rng3max+2)+1\n",
        "  NowCell = sheet.cell(row = 1, column = NowColumn)\n",
        "  NowCell.value = Par2Name+\"=\"+str(Par2Mas[i])\n",
        "  for sch in range (Rng1max):\n",
        "    NowCell = sheet.cell(row = sch+2, column = NowColumn)\n",
        "    NowCell.value = Par1Name+\"=\"+str(Par1Mas[sch])\n",
        "  for j in range (Rng3max):\n",
        "    NowColumn=i*(Rng3max+2)+j+2\n",
        "    NowCell = sheet.cell(row = 1, column = NowColumn)\n",
        "    NowCell.value = Par3Name+\"=\"+str(Par3Mas[j])\n",
        "    for k in range (Rng1max):\n",
        "      NowCell = sheet.cell(row = k+2, column = NowColumn)\n",
        "      NowCell.value = round(MidList[k][i][j],1)\n",
        "\n",
        "for i in range (Rng2max):\n",
        "  NowColumn=i*(Rng3max+2)+1\n",
        "  NowCell = sheet2.cell(row = 1, column = NowColumn)\n",
        "  NowCell.value = Par2Name+\"=\"+str(Par2Mas[i])\n",
        "  for sch in range (Rng1max):\n",
        "    NowCell = sheet2.cell(row = sch+2, column = NowColumn)\n",
        "    NowCell.value = Par1Name+\"=\"+str(Par1Mas[sch])\n",
        "  for j in range (Rng3max):\n",
        "    NowColumn=i*(Rng3max+2)+j+2\n",
        "    NowCell = sheet2.cell(row = 1, column = NowColumn)\n",
        "    NowCell.value = Par3Name+\"=\"+str(Par3Mas[j])\n",
        "    for k in range (Rng1max):\n",
        "      NowCell = sheet2.cell(row = k+2, column = NowColumn)\n",
        "      NowCell.value = round(TimeMidList[k][i][j],4)\n",
        "      \n",
        "wb.save('AntSheet.xlsx')"
      ],
      "execution_count": null,
      "outputs": []
    },
    {
      "cell_type": "code",
      "metadata": {
        "id": "fzqFDVmYJu1k"
      },
      "source": [
        "#Метод перебора. Cохранение истории нахождения оптимального маршрута в Excel.\n",
        "Grwb = openpyxl.Workbook()\n",
        "Grwb.create_sheet(title = 'Первый лист', index = 0)\n",
        "sheet = Grwb['Первый лист']\n",
        "  \n",
        "NowColumn=1\n",
        "NowCell = sheet.cell(row = 1, column = NowColumn)\n",
        "b1=GrossLen[len(GrossLen)-1]\n",
        "NowCell.value = \"Best=\"+str(b1)\n",
        "NowCell = sheet.cell(row = 2, column = NowColumn)\n",
        "NowCell.value = \"Time=\"+str(AllTime)\n",
        "NowColumn=2\n",
        "NowCell = sheet.cell(row = 1, column = NowColumn)\n",
        "NowCell.value = \"Best\"\n",
        "for Sch1 in range (len(GrossLen)):\n",
        "  NowCell = sheet.cell(row = Sch1+2, column = NowColumn)\n",
        "  NowCell.value =GrossLen[Sch1]\n",
        "NowColumn=3\n",
        "NowCell = sheet.cell(row = 1, column = NowColumn)\n",
        "NowCell.value = \"Time\"\n",
        "for Sch1 in range (len(GrossTime)):\n",
        "  NowCell = sheet.cell(row = Sch1+2, column = NowColumn)\n",
        "  NowCell.value =GrossTime[Sch1]\n",
        "\n",
        "Grwb.save('Gross.xlsx')"
      ],
      "execution_count": null,
      "outputs": []
    },
    {
      "cell_type": "code",
      "metadata": {
        "id": "H7p2UffYvziC"
      },
      "source": [
        "#Генетический алгоритм. Cохранение истории нахождения оптимального маршрута в Excel.\n",
        "Genwb = openpyxl.Workbook()\n",
        "Genwb.create_sheet(title = 'Первый лист', index = 0)\n",
        "sheet = Genwb['Первый лист']\n",
        "\n",
        "NowColumn=1\n",
        "NowCell = sheet.cell(row = 1, column = NowColumn)\n",
        "b1=GenLen[len(GenLen)-1]\n",
        "NowCell.value = \"Best=\"+str(b1)\n",
        "NowColumn=2\n",
        "NowCell = sheet.cell(row = 1, column = NowColumn)\n",
        "NowCell.value = \"Best\"\n",
        "for Sch1 in range (len(GenLen)):\n",
        "  NowCell = sheet.cell(row = Sch1+2, column = NowColumn)\n",
        "  NowCell.value =GenLen[Sch1]\n",
        "NowColumn=3\n",
        "NowCell = sheet.cell(row = 1, column = NowColumn)\n",
        "NowCell.value = \"Time\"\n",
        "for Sch1 in range (len(GenTime)):\n",
        "  NowCell = sheet.cell(row = Sch1+2, column = NowColumn)\n",
        "  NowCell.value =GenTime[Sch1]\n",
        "\n",
        "Genwb.save('Gen.xlsx')"
      ],
      "execution_count": null,
      "outputs": []
    }
  ]
}